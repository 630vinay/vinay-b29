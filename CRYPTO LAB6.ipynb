{
  "nbformat": 4,
  "nbformat_minor": 0,
  "metadata": {
    "colab": {
      "provenance": [],
      "authorship_tag": "ABX9TyNlwoQATp27zJn74GKK1Apu",
      "include_colab_link": true
    },
    "kernelspec": {
      "name": "python3",
      "display_name": "Python 3"
    },
    "language_info": {
      "name": "python"
    }
  },
  "cells": [
    {
      "cell_type": "markdown",
      "metadata": {
        "id": "view-in-github",
        "colab_type": "text"
      },
      "source": [
        "<a href=\"https://colab.research.google.com/github/630vinay/vinay-b29/blob/main/CRYPTO%20LAB6.ipynb\" target=\"_parent\"><img src=\"https://colab.research.google.com/assets/colab-badge.svg\" alt=\"Open In Colab\"/></a>"
      ]
    },
    {
      "cell_type": "code",
      "execution_count": 1,
      "metadata": {
        "colab": {
          "base_uri": "https://localhost:8080/"
        },
        "id": "CZ0Mhtd8Kbxq",
        "outputId": "d1264d7d-af68-4367-c861-9b6eb9b086c7"
      },
      "outputs": [
        {
          "output_type": "stream",
          "name": "stdout",
          "text": [
            "Plaintext: 0x1234\n",
            "Ciphertext: 0x1b37\n",
            "Decrypted: 0x1234\n"
          ]
        }
      ],
      "source": [
        "import random\n",
        "\n",
        "def generate_key():\n",
        "    \"\"\"Generate a random 8-bit key.\"\"\"\n",
        "    return random.randint(0, 255)\n",
        "\n",
        "def feistel_function(r, k):\n",
        "    \"\"\"A simple Feistel function: XOR the right half with the key.\"\"\"\n",
        "    return r ^ k\n",
        "\n",
        "def feistel_encrypt(plaintext, rounds=4):\n",
        "    \"\"\"Encrypts a 16-bit plaintext using a Feistel cipher.\"\"\"\n",
        "    # Ensure plaintext is 16-bit\n",
        "    assert 0 <= plaintext < (1 << 16), \"Plaintext must be a 16-bit integer\"\n",
        "\n",
        "    # Split into two 8-bit halves\n",
        "    left = (plaintext >> 8) & 0xFF\n",
        "    right = plaintext & 0xFF\n",
        "\n",
        "    # Generate round keys\n",
        "    keys = [generate_key() for _ in range(rounds)]\n",
        "\n",
        "    # Feistel rounds\n",
        "    for i in range(rounds):\n",
        "        temp = right\n",
        "        right = left ^ feistel_function(right, keys[i])\n",
        "        left = temp\n",
        "\n",
        "    # Combine left and right halves\n",
        "    ciphertext = (left << 8) | right\n",
        "    return ciphertext, keys\n",
        "\n",
        "def feistel_decrypt(ciphertext, keys):\n",
        "    \"\"\"Decrypts a 16-bit ciphertext using a Feistel cipher.\"\"\"\n",
        "    rounds = len(keys)\n",
        "\n",
        "    # Split into two 8-bit halves\n",
        "    left = (ciphertext >> 8) & 0xFF\n",
        "    right = ciphertext & 0xFF\n",
        "\n",
        "    # Feistel rounds in reverse order\n",
        "    for i in range(rounds - 1, -1, -1):\n",
        "        temp = left\n",
        "        left = right ^ feistel_function(left, keys[i])\n",
        "        right = temp\n",
        "\n",
        "    # Combine left and right halves\n",
        "    plaintext = (left << 8) | right\n",
        "    return plaintext\n",
        "\n",
        "# Example usage\n",
        "plaintext = 0x1234  # 16-bit input\n",
        "ciphertext, keys = feistel_encrypt(plaintext)\n",
        "decrypted = feistel_decrypt(ciphertext, keys)\n",
        "\n",
        "print(f\"Plaintext: {hex(plaintext)}\")\n",
        "print(f\"Ciphertext: {hex(ciphertext)}\")\n",
        "print(f\"Decrypted: {hex(decrypted)}\")\n"
      ]
    }
  ]
}