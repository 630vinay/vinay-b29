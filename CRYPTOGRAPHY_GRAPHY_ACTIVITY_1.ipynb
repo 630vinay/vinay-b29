{
  "nbformat": 4,
  "nbformat_minor": 0,
  "metadata": {
    "colab": {
      "provenance": [],
      "authorship_tag": "ABX9TyOufe5SU5SskVYGAP/Wnn3i",
      "include_colab_link": true
    },
    "kernelspec": {
      "name": "python3",
      "display_name": "Python 3"
    },
    "language_info": {
      "name": "python"
    }
  },
  "cells": [
    {
      "cell_type": "markdown",
      "metadata": {
        "id": "view-in-github",
        "colab_type": "text"
      },
      "source": [
        "<a href=\"https://colab.research.google.com/github/630vinay/vinay-b29/blob/main/CRYPTOGRAPHY_GRAPHY_ACTIVITY_1.ipynb\" target=\"_parent\"><img src=\"https://colab.research.google.com/assets/colab-badge.svg\" alt=\"Open In Colab\"/></a>"
      ]
    },
    {
      "cell_type": "code",
      "source": [
        "def caesar_cipher(text, shift):\n",
        "    result = \"\"\n",
        "    for char in text:\n",
        "        if char.isalpha():\n",
        "            shift_base = 65 if char.isupper() else 97\n",
        "            result += chr((ord(char) - shift_base + shift) % 26 + shift_base)\n",
        "        else:\n",
        "            result += char\n",
        "    return result\n",
        "\n",
        "# Example usage\n",
        "text = input(\"Enter text: \")\n",
        "shift = int(input(\"Enter shift: \"))\n",
        "encrypted_text = caesar_cipher(text, shift)\n",
        "print(\"Encrypted text:\", encrypted_text)\n"
      ],
      "metadata": {
        "colab": {
          "base_uri": "https://localhost:8080/"
        },
        "id": "fE5KhH4Zz208",
        "outputId": "93af16cf-056d-41e3-96af-c1e0498f9f6b"
      },
      "execution_count": 5,
      "outputs": [
        {
          "output_type": "stream",
          "name": "stdout",
          "text": [
            "Enter text: hello\n",
            "Enter shift: -1\n",
            "Encrypted text: gdkkn\n"
          ]
        }
      ]
    }
  ]
}