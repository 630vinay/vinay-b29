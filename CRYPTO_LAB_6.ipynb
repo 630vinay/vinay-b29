{
  "nbformat": 4,
  "nbformat_minor": 0,
  "metadata": {
    "colab": {
      "provenance": [],
      "authorship_tag": "ABX9TyPYRrrbS/l3YhfB2yNtED3N",
      "include_colab_link": true
    },
    "kernelspec": {
      "name": "python3",
      "display_name": "Python 3"
    },
    "language_info": {
      "name": "python"
    }
  },
  "cells": [
    {
      "cell_type": "markdown",
      "metadata": {
        "id": "view-in-github",
        "colab_type": "text"
      },
      "source": [
        "<a href=\"https://colab.research.google.com/github/630vinay/vinay-b29/blob/main/CRYPTO_LAB_6.ipynb\" target=\"_parent\"><img src=\"https://colab.research.google.com/assets/colab-badge.svg\" alt=\"Open In Colab\"/></a>"
      ]
    },
    {
      "cell_type": "code",
      "execution_count": 3,
      "metadata": {
        "colab": {
          "base_uri": "https://localhost:8080/"
        },
        "id": "3t6BiOq9JbUR",
        "outputId": "06df18f8-f539-443e-bd16-2c28d31645bb"
      },
      "outputs": [
        {
          "output_type": "stream",
          "name": "stdout",
          "text": [
            "Plaintext: manchester\n",
            "Ciphertext: ORMYCFTLKM\n",
            "Decrypted Text: MANCHESTER\n"
          ]
        }
      ],
      "source": [
        "import re\n",
        "\n",
        "def generate_playfair_square(key):\n",
        "    key = \"\".join(dict.fromkeys(key.upper().replace(\"J\", \"I\")))  # Remove duplicates\n",
        "    alphabet = \"ABCDEFGHIKLMNOPQRSTUVWXYZ\"  # No 'J'\n",
        "    key_square = [c for c in key if c in alphabet] + [c for c in alphabet if c not in key]\n",
        "    return [key_square[i * 5:(i + 1) * 5] for i in range(5)]\n",
        "\n",
        "def find_position(square, letter):\n",
        "    for row in range(5):\n",
        "        for col in range(5):\n",
        "            if square[row][col] == letter:\n",
        "                return row, col\n",
        "    return None\n",
        "\n",
        "def preprocess_text(text):\n",
        "    text = re.sub(r\"[^A-Z]\", \"\", text.upper().replace(\"J\", \"I\"))  # Remove non-letters\n",
        "    text_pairs = []\n",
        "\n",
        "    i = 0\n",
        "    while i < len(text):\n",
        "        a = text[i]\n",
        "        b = text[i+1] if (i+1) < len(text) else \"X\"\n",
        "\n",
        "        if a == b:  # If letters are the same, insert 'X' between them\n",
        "            text_pairs.append(a + \"X\")\n",
        "            i += 1\n",
        "        else:\n",
        "            text_pairs.append(a + b)\n",
        "            i += 2\n",
        "\n",
        "    return text_pairs\n",
        "\n",
        "def playfair_encrypt(plaintext, key):\n",
        "    square = generate_playfair_square(key)\n",
        "    plaintext_pairs = preprocess_text(plaintext)\n",
        "    ciphertext = \"\"\n",
        "\n",
        "    for a, b in plaintext_pairs:\n",
        "        row1, col1 = find_position(square, a)\n",
        "        row2, col2 = find_position(square, b)\n",
        "\n",
        "        if row1 == row2:  # Same row\n",
        "            ciphertext += square[row1][(col1 + 1) % 5] + square[row2][(col2 + 1) % 5]\n",
        "        elif col1 == col2:  # Same column\n",
        "            ciphertext += square[(row1 + 1) % 5][col1] + square[(row2 + 1) % 5][col2]\n",
        "        else:  # Rectangle rule\n",
        "            ciphertext += square[row1][col2] + square[row2][col1]\n",
        "\n",
        "    return ciphertext\n",
        "\n",
        "def playfair_decrypt(ciphertext, key):\n",
        "    square = generate_playfair_square(key)\n",
        "    plaintext = \"\"\n",
        "\n",
        "    for a, b in [ciphertext[i:i+2] for i in range(0, len(ciphertext), 2)]:\n",
        "        row1, col1 = find_position(square, a)\n",
        "        row2, col2 = find_position(square, b)\n",
        "\n",
        "        if row1 == row2:  # Same row\n",
        "            plaintext += square[row1][(col1 - 1) % 5] + square[row2][(col2 - 1) % 5]\n",
        "        elif col1 == col2:  # Same column\n",
        "            plaintext += square[(row1 - 1) % 5][col1] + square[(row2 - 1) % 5][col2]\n",
        "        else:  # Rectangle rule\n",
        "            plaintext += square[row1][col2] + square[row2][col1]\n",
        "\n",
        "    return plaintext\n",
        "\n",
        "# Example usage\n",
        "key = \"MONARCHY\"\n",
        "plaintext = \"manchester\"\n",
        "\n",
        "ciphertext = playfair_encrypt(plaintext, key)\n",
        "decrypted_text = playfair_decrypt(ciphertext, key)\n",
        "\n",
        "print(f\"Plaintext: {plaintext}\")\n",
        "print(f\"Ciphertext: {ciphertext}\")\n",
        "print(f\"Decrypted Text: {decrypted_text}\")\n"
      ]
    }
  ]
}