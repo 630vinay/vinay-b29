{
  "nbformat": 4,
  "nbformat_minor": 0,
  "metadata": {
    "colab": {
      "provenance": [],
      "authorship_tag": "ABX9TyOtr63xWYAtl6LmBIUm/0R9",
      "include_colab_link": true
    },
    "kernelspec": {
      "name": "python3",
      "display_name": "Python 3"
    },
    "language_info": {
      "name": "python"
    }
  },
  "cells": [
    {
      "cell_type": "markdown",
      "metadata": {
        "id": "view-in-github",
        "colab_type": "text"
      },
      "source": [
        "<a href=\"https://colab.research.google.com/github/630vinay/vinay-b29/blob/main/DAY_3_PYTHON_TRAINING.ipynb\" target=\"_parent\"><img src=\"https://colab.research.google.com/assets/colab-badge.svg\" alt=\"Open In Colab\"/></a>"
      ]
    },
    {
      "cell_type": "markdown",
      "source": [
        "The environmental eco club has discovered a new Amoeba that grows in the order of a Fibonacci series every month. They are exhibiting their amoeba in a national conference. They want to know the size of the amoeba at a particular time instant. If a particular month’s index is given, write a program to displays the amoeba’s size……??? For Example, The size of the amoeba on month 1, 2, 3, 4, 5, 6, ..will be 0, 1, 1, 2, 3, 5, 8 respectively. Input format: The first input containing an integer which denotes the number of the month Output format: Print the amoeba size. Refer the sample output for formatting.\n",
        "\n",
        "\n",
        "Input (stdin)\n",
        "\n",
        "7\n",
        "\n",
        "Output (stdout)\n",
        "\n",
        "8\n",
        "\n",
        "Input (stdin)\n",
        "\n",
        "3\n",
        "\n",
        "Output (stdout)\n",
        "\n",
        "1"
      ],
      "metadata": {
        "id": "66qbLLU_7oVA"
      }
    },
    {
      "cell_type": "code",
      "execution_count": 4,
      "metadata": {
        "colab": {
          "base_uri": "https://localhost:8080/"
        },
        "id": "-rOsb2I62qrS",
        "outputId": "fa8c0c34-fbe6-4edf-bdbb-9a0a06ea365e"
      },
      "outputs": [
        {
          "output_type": "stream",
          "name": "stdout",
          "text": [
            "Enter the month: 0\n",
            "The size of the amoeba in month 0 is 1.\n"
          ]
        }
      ],
      "source": [
        "def amoeba_size(month):\n",
        "    if month == 1:\n",
        "        return 0\n",
        "    elif month == 2:\n",
        "        return 1\n",
        "\n",
        "    a, b = 0, 1  # Initial values for month 1 and month 2\n",
        "    for _ in range(3, month + 1):  # Start calculating from month 3\n",
        "        a, b = b, a + b  # Update values\n",
        "\n",
        "    return b\n",
        "\n",
        "# Input\n",
        "month = int(input(\"Enter the month: \"))\n",
        "# Output\n",
        "print(f\"The size of the amoeba in month {month} is {amoeba_size(month)}.\")\n"
      ]
    },
    {
      "cell_type": "markdown",
      "source": [
        "BASIC METHOD"
      ],
      "metadata": {
        "id": "53Ub8k1UDVM3"
      }
    },
    {
      "cell_type": "code",
      "source": [
        "def fibonacci(n):\n",
        "\n",
        "a, b = 0, 1\n",
        "\n",
        "for _ in range(n):\n",
        "\n",
        "a, b = b, a + b\n",
        "\n",
        "return a\n",
        "\n",
        "\n",
        "# Taking input for the month number\n",
        "\n",
        "month = int(input(\"Enter the month number: \"))\n",
        "\n",
        "\n",
        "# Calculating the size of the amoeba\n",
        "\n",
        "size = fibonacci(month)\n",
        "\n",
        "\n",
        "# Displaying the output\n",
        "\n",
        "print(f\"The size of the amoeba on month {month} is {size}\")"
      ],
      "metadata": {
        "id": "rHk4M_Yv9qp0"
      },
      "execution_count": null,
      "outputs": []
    },
    {
      "cell_type": "markdown",
      "source": [
        "3rd method"
      ],
      "metadata": {
        "id": "XRV-r-hhDR5s"
      }
    },
    {
      "cell_type": "code",
      "source": [
        "n = int(input())\n",
        "f1=0\n",
        "f2=1\n",
        "size = 0\n",
        "for i in range(n-1):\n",
        "  f1=f2\n",
        "  f2=size\n",
        "  size = f1+f2\n",
        "print(size)"
      ],
      "metadata": {
        "colab": {
          "base_uri": "https://localhost:8080/"
        },
        "id": "4v33aknUABnY",
        "outputId": "07db3aa6-93b3-4574-8ec6-04d6becf22bf"
      },
      "execution_count": 6,
      "outputs": [
        {
          "output_type": "stream",
          "name": "stdout",
          "text": [
            "7\n",
            "8\n"
          ]
        }
      ]
    },
    {
      "cell_type": "markdown",
      "source": [
        "Write a program to determine whether 'n' is a factorial number or not. Factorial of a number is the product of all positive numbers from 1 to 'n'. Input format: The input containing an integer 'n' which denotes the given number. Output format: If the given number is factorial, print \"Yes\". Otherwise, print \"No\". Refer the sample output for formatting.\n",
        "\n",
        "\n",
        "Input (stdin)\n",
        "\n",
        "6\n",
        "\n",
        "Output (stdout)\n",
        "\n",
        "Yes\n",
        "\n",
        "Input (stdin)\n",
        "\n",
        "2\n",
        "\n",
        "Output (stdout)\n",
        "\n",
        "Yes"
      ],
      "metadata": {
        "id": "6nd4R3dNEphL"
      }
    },
    {
      "cell_type": "code",
      "source": [
        "n=int(input())\n",
        "u=1\n",
        "for i in range (1,n+1):\n",
        "  u=u*i\n",
        "print(u)\n"
      ],
      "metadata": {
        "colab": {
          "base_uri": "https://localhost:8080/"
        },
        "id": "HDnJEJRoErP9",
        "outputId": "40e754a0-6e0e-41e1-bb40-cfaa624ac98c"
      },
      "execution_count": 14,
      "outputs": [
        {
          "output_type": "stream",
          "name": "stdout",
          "text": [
            "5\n",
            "120\n"
          ]
        }
      ]
    },
    {
      "cell_type": "markdown",
      "source": [
        "for yes or no"
      ],
      "metadata": {
        "id": "wU2Od861KAkG"
      }
    },
    {
      "cell_type": "code",
      "source": [
        "n=int(input())\n",
        "u=1\n",
        "lix=[]\n",
        "for i in range(1,n+1):\n",
        "    u=u*i\n",
        "    lix=lix+[u]\n",
        "print(lix)\n",
        "if(n in lix):\n",
        "    print(\"Yes\")\n",
        "else:\n",
        "    print(\"No\")"
      ],
      "metadata": {
        "colab": {
          "base_uri": "https://localhost:8080/"
        },
        "id": "u6MTJrs1J-uv",
        "outputId": "0c69dbc6-f15a-4e97-961e-23f7119c6a63"
      },
      "execution_count": 13,
      "outputs": [
        {
          "output_type": "stream",
          "name": "stdout",
          "text": [
            "6\n",
            "[1, 2, 6, 24, 120, 720]\n",
            "Yes\n"
          ]
        }
      ]
    },
    {
      "cell_type": "markdown",
      "source": [
        "Description:\n",
        "A vending machine continues to accept money until the total amount entered reaches or exceeds 100. The program will display a message once the target is achieved.\n",
        "\n",
        "Input Format:\n",
        "\n",
        "Multiple integers, one per line, representing money input.\n",
        "Input terminates when the total reaches or exceeds 100.\n",
        "\n",
        "Output Format:\n",
        "\n",
        "Print Target achieved.\n",
        "\n",
        "Sample Input:\n",
        "20  \n",
        "30  \n",
        "50\n",
        "\n",
        "Sample Output:\n",
        "Target achieved"
      ],
      "metadata": {
        "id": "1HXRpFHmM4ZM"
      }
    },
    {
      "cell_type": "code",
      "source": [
        "n=int(input())\n",
        "u=int(input())\n",
        "i=int(input())\n",
        "\n",
        "j=n+u+i\n",
        "\n",
        "if(j>=100):\n",
        "    print(\"Target achieved\")\n",
        "else:\n",
        "    print(j)"
      ],
      "metadata": {
        "colab": {
          "base_uri": "https://localhost:8080/"
        },
        "id": "pJVaJa1SM5w0",
        "outputId": "468e5fb5-df0e-4de6-b879-3730a24017ed"
      },
      "execution_count": 15,
      "outputs": [
        {
          "output_type": "stream",
          "name": "stdout",
          "text": [
            "30\n",
            "40\n",
            "60\n",
            "Target achieved\n"
          ]
        }
      ]
    },
    {
      "cell_type": "markdown",
      "source": [
        "A supervisor needs to identify how many employees worked overtime (more than 8 hours). The program will accept the working hours for 6 employees and display the count of overtime workers.\n",
        "\n",
        "Input Format:\n",
        "first line of input contains n value integer.\n",
        "next n integers.\n",
        "Output Format:\n",
        "Print Overtime workers: X, where X is the count.\n",
        "Sample Input:\n",
        "6\n",
        "7  \n",
        "9  \n",
        "8  \n",
        "10  \n",
        "6  \n",
        "9\n",
        "Sample Output:\n",
        "Overtime workers: 3"
      ],
      "metadata": {
        "id": "QAsDoWEtU0Ma"
      }
    },
    {
      "cell_type": "code",
      "source": [
        "def count_overtime_workers():\n",
        "    n = int(input(\"Enter the number of employees: \"))\n",
        "\n",
        "    # Initialize the counter for overtime workers\n",
        "    overtime_count = 0\n",
        "\n",
        "    print(\"Enter the working hours of employees:\")\n",
        "    for _ in range(n):\n",
        "        hours = int(input())  # Input working hours for each employee\n",
        "        if hours > 8:  # Check if the employee worked overtime\n",
        "            overtime_count += 1  # Increment the counter\n",
        "\n",
        "    print(f\"Overtime workers: {overtime_count}\")\n",
        "\n",
        "count_overtime_workers()\n"
      ],
      "metadata": {
        "colab": {
          "base_uri": "https://localhost:8080/"
        },
        "id": "MgeKNpxcU5VL",
        "outputId": "0a52280f-6209-49d9-ca8f-e59bdc3e9234"
      },
      "execution_count": 18,
      "outputs": [
        {
          "output_type": "stream",
          "name": "stdout",
          "text": [
            "Enter the number of employees: 6\n",
            "Enter the working hours of employees:\n",
            "9\n",
            "8\n",
            "10\n",
            "6\n",
            "9\n",
            "6\n",
            "Overtime workers: 3\n"
          ]
        }
      ]
    },
    {
      "cell_type": "markdown",
      "source": [
        "2nd method"
      ],
      "metadata": {
        "id": "CdDjS1rFZnTU"
      }
    },
    {
      "cell_type": "code",
      "source": [
        "ott=0\n",
        "n=int(input())\n",
        "for i in range(n):\n",
        "    h=int(input())\n",
        "    if h>8:\n",
        "        ott+=1\n",
        "print(f\"Overtime workers:{ott}\")\n"
      ],
      "metadata": {
        "colab": {
          "base_uri": "https://localhost:8080/"
        },
        "id": "QVZOfN0ZXDvB",
        "outputId": "00272778-4d62-4191-ea84-5e5ea8df9c7e"
      },
      "execution_count": 21,
      "outputs": [
        {
          "output_type": "stream",
          "name": "stdout",
          "text": [
            "6\n",
            "7\n",
            "9\n",
            "8\n",
            "10\n",
            "6\n",
            "9\n",
            "Overtime workers:3\n"
          ]
        }
      ]
    },
    {
      "cell_type": "markdown",
      "source": [
        "A program calculates the sum of digits of an integer input using a while loop.\n",
        "\n",
        "Input Format:\n",
        "A single integer.\n",
        "Output Format:\n",
        "Print Sum of digits: X, where X is the sum.\n",
        "Sample Input:\n",
        "1234\n",
        "Sample Output:\n",
        "Sum of digits: 10"
      ],
      "metadata": {
        "id": "Dg12OebvZqvD"
      }
    },
    {
      "cell_type": "code",
      "source": [
        "n=int(input())\n",
        "s=0\n",
        "while(n>0):\n",
        "  s+=n%10\n",
        "  n//=10\n",
        "print(s)"
      ],
      "metadata": {
        "colab": {
          "base_uri": "https://localhost:8080/"
        },
        "id": "heQLswf5ZxFp",
        "outputId": "7cda78d6-2496-436d-ac88-fa0e6cbfe340"
      },
      "execution_count": 26,
      "outputs": [
        {
          "output_type": "stream",
          "name": "stdout",
          "text": [
            "1234\n",
            "10\n"
          ]
        }
      ]
    },
    {
      "cell_type": "markdown",
      "source": [
        "A program repeatedly sums the digits of a number until a single-digit result is obtained.\n",
        "\n",
        "Input Format:\n",
        "A single integer.\n",
        "Output Format:\n",
        "Print Single digit: X, where X is the result.\n",
        "Sample Input:\n",
        "Copy code\n",
        "987\n",
        "Sample Output:\n",
        "Single digit: 6"
      ],
      "metadata": {
        "id": "cixfMiA2dUCC"
      }
    },
    {
      "cell_type": "code",
      "source": [
        "#for loop\n",
        "n=int(input())\n",
        "a=0\n",
        "l=len(str(n))\n",
        "for i in range (l):\n",
        "    a+=n%10\n",
        "    n//=10\n",
        "print(f\"Sum of digits: {a}\")"
      ],
      "metadata": {
        "colab": {
          "base_uri": "https://localhost:8080/"
        },
        "id": "pbvQ29DhdXP1",
        "outputId": "21f27ac0-9f47-4b79-e2b1-409fd353e413"
      },
      "execution_count": 27,
      "outputs": [
        {
          "output_type": "stream",
          "name": "stdout",
          "text": [
            "6\n",
            "Sum of digits: 6\n"
          ]
        }
      ]
    },
    {
      "cell_type": "markdown",
      "source": [
        "A program counts the number of words in a given sentence.\n",
        "\n",
        "Input Format:\n",
        "A single line of text.\n",
        "\n",
        "Output Format:\n",
        "Print Word count: X, where X is the number of words.\n",
        "\n",
        "Sample Input:\n",
        "I love programming.\n",
        "\n",
        "Sample Output:\n",
        "Word count: 3"
      ],
      "metadata": {
        "id": "NagdYX9Zffgi"
      }
    },
    {
      "cell_type": "code",
      "source": [
        "print(len(input().split(\" \")))"
      ],
      "metadata": {
        "colab": {
          "base_uri": "https://localhost:8080/"
        },
        "id": "88OUG15-fi3O",
        "outputId": "530b76ef-9561-4327-c203-b75473c7fe0b"
      },
      "execution_count": 29,
      "outputs": [
        {
          "output_type": "stream",
          "name": "stdout",
          "text": [
            "rahul loves bumchiks\n",
            "3\n"
          ]
        }
      ]
    },
    {
      "cell_type": "code",
      "source": [
        "print(len(input().split()))"
      ],
      "metadata": {
        "colab": {
          "base_uri": "https://localhost:8080/"
        },
        "id": "ZJ-PaYB2hr2v",
        "outputId": "bc171133-aaf6-4e17-edda-c4982d090f88"
      },
      "execution_count": 30,
      "outputs": [
        {
          "output_type": "stream",
          "name": "stdout",
          "text": [
            "cherry is bumchikman\n",
            "3\n"
          ]
        }
      ]
    },
    {
      "cell_type": "markdown",
      "source": [
        "A program determines if a given number is an Armstrong number.\n",
        "\n",
        "Input Format:\n",
        "A single integer.\n",
        "Output Format:\n",
        "Print X is an Armstrong number or X is not an Armstrong number.\n",
        "Sample Input:\n",
        "153\n",
        "Sample Output:\n",
        "153 is an Armstrong number."
      ],
      "metadata": {
        "id": "XnhmEPrLkRqL"
      }
    },
    {
      "cell_type": "code",
      "source": [
        "n=int(input(\"enter the n value\"))\n",
        "sum=0\n",
        "x=len(str(n))\n",
        "temp=n\n",
        "while n>0:\n",
        "    r=n%10\n",
        "    sum+=r**x\n",
        "    n=n//10\n",
        "if temp==sum:\n",
        "    print(\"armstrong\")\n",
        "else:\n",
        "    print(\"not armstrong\")"
      ],
      "metadata": {
        "colab": {
          "base_uri": "https://localhost:8080/"
        },
        "id": "kjIdrNe-kXxn",
        "outputId": "44e7bd91-8fa6-40fc-ae0f-220df626a1b9"
      },
      "execution_count": 31,
      "outputs": [
        {
          "output_type": "stream",
          "name": "stdout",
          "text": [
            "enter the n value153\n",
            "armstrong\n"
          ]
        }
      ]
    },
    {
      "cell_type": "markdown",
      "source": [
        "Write a program to generate the following series 5, 16, 49, 104, 181... Input format: The input containing an integer which denotes 'n' Output format: Print the series and refer the sample output for formatting.\n",
        "\n",
        "\n",
        "Input (stdin)\n",
        "\n",
        "5\n",
        "Output (stdout)\n",
        "\n",
        "5\n",
        "16\n",
        "49\n",
        "104\n",
        "181\n",
        "\n",
        "Input (stdin)\n",
        "\n",
        "10\n",
        "\n",
        "Output (stdout)\n",
        "\n",
        "5\n",
        "16\n",
        "49\n",
        "104\n",
        "181\n",
        "280\n",
        "401\n",
        "544\n",
        "709\n",
        "896"
      ],
      "metadata": {
        "id": "2cF2LElE0WQu"
      }
    },
    {
      "cell_type": "code",
      "source": [
        "n=int(input())\n",
        "k=1\n",
        "j=5\n",
        "print(5,end=\" \")\n",
        "for i in range(n-1):\n",
        "    s=j+(k*11)\n",
        "    j=s\n",
        "    print(s,end=\" \")\n",
        "    k+=2"
      ],
      "metadata": {
        "colab": {
          "base_uri": "https://localhost:8080/"
        },
        "id": "Wc5STSzA0YSO",
        "outputId": "8a26a467-e47a-47a7-8827-c3974aa6c59a"
      },
      "execution_count": 34,
      "outputs": [
        {
          "output_type": "stream",
          "name": "stdout",
          "text": [
            "10\n",
            "5 16 49 104 181 280 401 544 709 896 "
          ]
        }
      ]
    },
    {
      "cell_type": "markdown",
      "source": [
        "patterns in python\n"
      ],
      "metadata": {
        "id": "ghl4TT2K-pIx"
      }
    },
    {
      "cell_type": "code",
      "source": [
        "n=int(input())\n",
        "for i in range(1,n+1):\n",
        "  print(\"@\"*i)"
      ],
      "metadata": {
        "colab": {
          "base_uri": "https://localhost:8080/"
        },
        "id": "Xz2yYO3-708S",
        "outputId": "6b533863-9400-48ff-af2e-009d0eeaa45e"
      },
      "execution_count": 42,
      "outputs": [
        {
          "output_type": "stream",
          "name": "stdout",
          "text": [
            "20\n",
            "@\n",
            "@@\n",
            "@@@\n",
            "@@@@\n",
            "@@@@@\n",
            "@@@@@@\n",
            "@@@@@@@\n",
            "@@@@@@@@\n",
            "@@@@@@@@@\n",
            "@@@@@@@@@@\n",
            "@@@@@@@@@@@\n",
            "@@@@@@@@@@@@\n",
            "@@@@@@@@@@@@@\n",
            "@@@@@@@@@@@@@@\n",
            "@@@@@@@@@@@@@@@\n",
            "@@@@@@@@@@@@@@@@\n",
            "@@@@@@@@@@@@@@@@@\n",
            "@@@@@@@@@@@@@@@@@@\n",
            "@@@@@@@@@@@@@@@@@@@\n",
            "@@@@@@@@@@@@@@@@@@@@\n"
          ]
        }
      ]
    },
    {
      "cell_type": "code",
      "source": [
        "n=int(input())\n",
        "j=n\n",
        "for i in range(1,n+1):\n",
        "  print(\" \"*j+\"@\"*i)\n",
        "  j-=1"
      ],
      "metadata": {
        "colab": {
          "base_uri": "https://localhost:8080/"
        },
        "id": "rT_OlW7S-uPE",
        "outputId": "d41c71c5-c02d-41e4-9d62-94ab8bf99287"
      },
      "execution_count": 1,
      "outputs": [
        {
          "output_type": "stream",
          "name": "stdout",
          "text": [
            "10\n",
            "          @\n",
            "         @@\n",
            "        @@@\n",
            "       @@@@\n",
            "      @@@@@\n",
            "     @@@@@@\n",
            "    @@@@@@@\n",
            "   @@@@@@@@\n",
            "  @@@@@@@@@\n",
            " @@@@@@@@@@\n"
          ]
        }
      ]
    },
    {
      "cell_type": "code",
      "source": [
        "#full stars\n",
        "n=5\n",
        "for i in range(1,n+1):\n",
        "  for j in range(1,n+1):\n",
        "    print(\"*\",end=\" \")\n",
        "  print()"
      ],
      "metadata": {
        "colab": {
          "base_uri": "https://localhost:8080/"
        },
        "id": "peu0MeDieHab",
        "outputId": "8416da3e-99c7-43fa-c6f0-3f5e66a50f06"
      },
      "execution_count": 7,
      "outputs": [
        {
          "output_type": "stream",
          "name": "stdout",
          "text": [
            "* * * * * \n",
            "* * * * * \n",
            "* * * * * \n",
            "* * * * * \n",
            "* * * * * \n"
          ]
        }
      ]
    },
    {
      "cell_type": "code",
      "source": [
        "n=5\n",
        "for i in range(1,n+1):\n",
        "  for j in range(1,n+1):\n",
        "    if i==1 or i==n or j==1 or j==n or i==j or i+j==6:\n",
        "      print(\"*\",end=\" \")\n",
        "    else:\n",
        "      print(\" \",end=\" \")\n",
        "  print()"
      ],
      "metadata": {
        "colab": {
          "base_uri": "https://localhost:8080/"
        },
        "id": "TS9-UgWGnMox",
        "outputId": "d08ee995-12a3-4f9f-8b28-84ff79220c1f"
      },
      "execution_count": 12,
      "outputs": [
        {
          "output_type": "stream",
          "name": "stdout",
          "text": [
            "* * * * * \n",
            "* *   * * \n",
            "*   *   * \n",
            "* *   * * \n",
            "* * * * * \n"
          ]
        }
      ]
    },
    {
      "cell_type": "code",
      "source": [
        "n=5\n",
        "for i in range(1,n+1):\n",
        "  for j in range(1,n+1):\n",
        "    if j<=i:\n",
        "      print(\"*\",end=\" \")\n",
        "    else:\n",
        "      print(\" \",end=\" \")\n",
        "  print()\n",
        "\n",
        ""
      ],
      "metadata": {
        "colab": {
          "base_uri": "https://localhost:8080/"
        },
        "id": "SnSsdw0BpPnf",
        "outputId": "cc951b3b-3c3f-4f82-cbe3-1559d098c023"
      },
      "execution_count": 17,
      "outputs": [
        {
          "output_type": "stream",
          "name": "stdout",
          "text": [
            "*         \n",
            "* *       \n",
            "* * *     \n",
            "* * * *   \n",
            "* * * * * \n"
          ]
        }
      ]
    },
    {
      "cell_type": "code",
      "source": [
        "n=5\n",
        "for i in range(1,n+1):\n",
        "  for j in range(1,n+1):\n",
        "    if i<=j:\n",
        "      print(\"*\",end=\" \")\n",
        "    else:\n",
        "      print(\" \",end=\" \")\n",
        "  print()"
      ],
      "metadata": {
        "colab": {
          "base_uri": "https://localhost:8080/"
        },
        "id": "f0NnkVcds9E0",
        "outputId": "1f6b85e1-459a-40d8-b8dd-545f6aab67f1"
      },
      "execution_count": 21,
      "outputs": [
        {
          "output_type": "stream",
          "name": "stdout",
          "text": [
            "* * * * * \n",
            "  * * * * \n",
            "    * * * \n",
            "      * * \n",
            "        * \n"
          ]
        }
      ]
    },
    {
      "cell_type": "code",
      "source": [
        "n=5\n",
        "for i in range(1,n+1):\n",
        "  for j in range(1,n+1):\n",
        "    if i+j==4 or i+j==8 or i*j==8:\n",
        "      print(\"*\",end=\" \")\n",
        "    else:\n",
        "      print(\" \",end=\" \")\n",
        "  print()"
      ],
      "metadata": {
        "colab": {
          "base_uri": "https://localhost:8080/"
        },
        "id": "_sVvwhKhrhP1",
        "outputId": "c1cc31b9-0c31-4b4a-ea3e-e51e6aee946d"
      },
      "execution_count": 20,
      "outputs": [
        {
          "output_type": "stream",
          "name": "stdout",
          "text": [
            "    *     \n",
            "  *   *   \n",
            "*       * \n",
            "  *   *   \n",
            "    *     \n"
          ]
        }
      ]
    }
  ]
}