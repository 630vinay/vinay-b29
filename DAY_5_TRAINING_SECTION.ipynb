{
  "nbformat": 4,
  "nbformat_minor": 0,
  "metadata": {
    "colab": {
      "provenance": [],
      "toc_visible": true,
      "authorship_tag": "ABX9TyOr3UYKB7Ie53v449/FpK0W",
      "include_colab_link": true
    },
    "kernelspec": {
      "name": "python3",
      "display_name": "Python 3"
    },
    "language_info": {
      "name": "python"
    }
  },
  "cells": [
    {
      "cell_type": "markdown",
      "metadata": {
        "id": "view-in-github",
        "colab_type": "text"
      },
      "source": [
        "<a href=\"https://colab.research.google.com/github/630vinay/vinay-b29/blob/main/DAY_5_TRAINING_SECTION.ipynb\" target=\"_parent\"><img src=\"https://colab.research.google.com/assets/colab-badge.svg\" alt=\"Open In Colab\"/></a>"
      ]
    },
    {
      "cell_type": "markdown",
      "source": [
        "Write a program that rotates the list to the right by k positions.\n",
        " Input Format:\n",
        " Input consist of single line of integer values separated by space are the list elements\n",
        " Next line of input consists of k value\n",
        " Output Format:\n",
        " Prints the rotated list\n",
        " Sample Input:\n",
        " 1 2345\n",
        " 2\n",
        " Sample Output:\n",
        " 4 5123\n",
        "generate the code and also explain the problem"
      ],
      "metadata": {
        "id": "bLF0nKPIRFeN"
      }
    },
    {
      "cell_type": "code",
      "execution_count": 3,
      "metadata": {
        "colab": {
          "base_uri": "https://localhost:8080/"
        },
        "id": "nSLPin9OONdo",
        "outputId": "5e8be01a-f703-439c-de8c-8f14541fff69"
      },
      "outputs": [
        {
          "output_type": "stream",
          "name": "stdout",
          "text": [
            "1 2 3 4 5 2\n",
            "2\n",
            "5 5 2 2 3 4 "
          ]
        }
      ],
      "source": [
        "lst = list(map(int,input().split(\" \")))\n",
        "k=int(input())\n",
        "for i in range(k):\n",
        " temp = lst[-1]\n",
        " for j in range(len(lst)-2,-1,-1):\n",
        "  lst[j+1] = lst[j]\n",
        "  lst[0] = temp\n",
        "for i in lst:\n",
        " print(i,end=\" \")"
      ]
    },
    {
      "cell_type": "markdown",
      "source": [
        "Write a program that prints an array where each element is the product of all elements in\n",
        " the list except the one at that index.\n",
        " Input Format:\n",
        " Input consist of single line of integer values separated by space are the list elements\n",
        " Output Format:\n",
        " Prints the product list except self.\n",
        " Sample Input:\n",
        " 1 2 3 4\n",
        " Sample Output:\n",
        " 24 12 8 6"
      ],
      "metadata": {
        "id": "T-_nAQyEStLU"
      }
    },
    {
      "cell_type": "code",
      "source": [
        "arr = []\n",
        "prd=[]\n",
        "arr = input().split()\n",
        "for i in range(len(arr)):\n",
        "  arr[i]=int(arr[i])\n",
        "p=1\n",
        "for i in range(len(arr)):\n",
        "  for j in arr:\n",
        "    if j==arr[i]:\n",
        "     continue\n",
        "    else:\n",
        "      p*=j\n",
        "  prd.append(p)\n",
        "  p=1\n",
        "for i in prd:\n",
        "  print(i,end=\" \")"
      ],
      "metadata": {
        "colab": {
          "base_uri": "https://localhost:8080/"
        },
        "id": "0V5RuxT8TphQ",
        "outputId": "4dac274a-da19-4099-df98-a745ca2bdb64"
      },
      "execution_count": 11,
      "outputs": [
        {
          "output_type": "stream",
          "name": "stdout",
          "text": [
            "1 2 3 4\n",
            "24 12 8 6 "
          ]
        }
      ]
    },
    {
      "cell_type": "code",
      "source": [
        "a=(\"hello\")\n",
        "b=(\"python\")\n",
        "c=(\"is not a python\")\n",
        "print(a+\" \"+b)\n",
        "print(a*3)\n",
        "print(len(a))\n",
        "print(len(b[0]))"
      ],
      "metadata": {
        "colab": {
          "base_uri": "https://localhost:8080/"
        },
        "id": "JULtPqzCfuif",
        "outputId": "c18d8baa-813f-4298-d9b9-129407460047"
      },
      "execution_count": 16,
      "outputs": [
        {
          "output_type": "stream",
          "name": "stdout",
          "text": [
            "hello python\n",
            "hellohellohello\n",
            "5\n",
            "1\n"
          ]
        }
      ]
    },
    {
      "cell_type": "code",
      "source": [
        "s=\"hello world\"\n",
        "print(s[::])\n",
        "print(s[:7:])\n",
        "print(s[0:10:3])\n",
        "#slicing\n",
        "\n",
        "#[start:stop:step]"
      ],
      "metadata": {
        "colab": {
          "base_uri": "https://localhost:8080/"
        },
        "id": "XEcspGMehG0Q",
        "outputId": "1b0b9356-144f-42b3-b1a7-89fadbba0758"
      },
      "execution_count": 18,
      "outputs": [
        {
          "output_type": "stream",
          "name": "stdout",
          "text": [
            "hello world\n",
            "hello w\n",
            "hlwl\n"
          ]
        }
      ]
    },
    {
      "cell_type": "code",
      "source": [
        "s=\" hello world \"\n",
        "b=\"python\"\n",
        "# rstrip() ->it will removes spcaes at right hand side\n",
        "# lstrip() ->it will removes apces at left hand side\n",
        "# strip() ->it will removes spaces both sides\n",
        "\n",
        "print(s.rstrip())\n",
        "print(s.lstrip())\n",
        "print(s.strip())"
      ],
      "metadata": {
        "colab": {
          "base_uri": "https://localhost:8080/"
        },
        "id": "r38ygLQjjs9q",
        "outputId": "2901499a-fa43-40d0-811a-d43778bee6e5"
      },
      "execution_count": 19,
      "outputs": [
        {
          "output_type": "stream",
          "name": "stdout",
          "text": [
            " hello world\n",
            "hello world \n",
            "hello world\n"
          ]
        }
      ]
    },
    {
      "cell_type": "markdown",
      "source": [
        "There is an interview process going on in a company. In that recruitment 200 people came for an interview. For HR it is very difficult to take an interview for those 200 peoples. So help the HR to disqualify the person who is sufficient for the proper work( remove the nth index character from a non-empty string..) Problem Description The program takes a string and removes the nth index character from the non-empty string. Program Explanation 1. User must enter a string and store it in a variable. 2. User must also enter the index of the character to remove. 3. The string and the index of the character to remove are passed as arguments to the remove function. 4. In the function, the string is split into two halves before the index character and after the index character. 5. The first half and the last half is then merged together using the ‘+’ operator. 6. The modified string is printed.\n",
        "\n",
        "\n",
        "Input (stdin)\n",
        "\n",
        "Hello\n",
        "3\n",
        "\n",
        "Output (stdout)\n",
        "\n",
        "Helo\n",
        "\n",
        "Input (stdin)\n",
        "\n",
        "welcome\n",
        "2\n",
        "\n",
        "Output (stdout)\n",
        "\n",
        "wecome"
      ],
      "metadata": {
        "id": "nPm9KtzI17AA"
      }
    },
    {
      "cell_type": "code",
      "source": [
        "n=input()\n",
        "index=int(input())\n",
        "for i in range(len(n)):\n",
        "    if(i==(index)):\n",
        "      continue\n",
        "    print(n[i],end=\"\")\n"
      ],
      "metadata": {
        "colab": {
          "base_uri": "https://localhost:8080/"
        },
        "id": "9Jr9L7FYkYsw",
        "outputId": "d1b30aa6-54de-4b31-fc0d-653ec2f66c76"
      },
      "execution_count": 26,
      "outputs": [
        {
          "output_type": "stream",
          "name": "stdout",
          "text": [
            "heyyyyyyy\n",
            "4\n",
            "heyyyyyy"
          ]
        }
      ]
    },
    {
      "cell_type": "markdown",
      "source": [
        "Students in a class going to write an exam. In a bench there are 5 members were sitting. Staff wants the students to sit three in bench. So he/she told that odd number people who is sitting in the bench should move out and sit in another bench. Help the staff to find out the odd people out. Problem Description The program takes a string and removes the characters of odd index values in the string. Problem Solution 1. Take a string from the user and store it in a variable. 2. Pass the string as an argument to a function. 3. In the function, initialize a variable to an empty character. 4. Use a for loop to traverse through the string. 5. Use an if statement to check if the index of the string is odd or even. 6. If the index is odd, append the no character to the string. 7. Then print the modified string. 8. Exit.\n",
        "\n",
        "\n",
        "Input (stdin)\n",
        "\n",
        "hello\n",
        "\n",
        "Output (stdout)\n",
        "\n",
        "hlo\n",
        "\n",
        "Input (stdin)\n",
        "\n",
        "welcome\n",
        "\n",
        "Output (stdout)\n",
        "\n",
        "wloe"
      ],
      "metadata": {
        "id": "mbUnDILZKGHv"
      }
    },
    {
      "cell_type": "code",
      "source": [
        "s=input()\n",
        "print(s[::2])\n"
      ],
      "metadata": {
        "colab": {
          "base_uri": "https://localhost:8080/"
        },
        "id": "o3v_EcnrKIQ3",
        "outputId": "932815ff-c0d6-45e7-eeed-069f7e95cdc9"
      },
      "execution_count": 28,
      "outputs": [
        {
          "output_type": "stream",
          "name": "stdout",
          "text": [
            "welcome\n",
            "wloe\n"
          ]
        }
      ]
    },
    {
      "cell_type": "markdown",
      "source": [
        "Write a Python Program to take in two strings and display the larger string without using built-in functions. Problem Description The program takes in two strings and display the larger string without using built-in function. Problem Solution 1. Take in two strings from the user and store it in separate variables. 2. Initialize the two count variables to zero. 3. Use a for loop to traverse through the characters in the string and increment the count variables each time a character is encountered. 4. Compare the count variables of both the strings. 5. Print the larger string. 6. Exit.\n",
        "\n",
        "\n",
        "Input (stdin)\n",
        "\n",
        "Delhi\n",
        "Bangalore\n",
        "\n",
        "Output (stdout)\n",
        "\n",
        "Bangalore"
      ],
      "metadata": {
        "id": "hycifwlfLZE2"
      }
    },
    {
      "cell_type": "code",
      "source": [
        "v=input()\n",
        "s=input()\n",
        "if(len(v)>len(s)):\n",
        "  print(v)\n",
        "else:\n",
        "  print(s)"
      ],
      "metadata": {
        "colab": {
          "base_uri": "https://localhost:8080/"
        },
        "id": "3qllmh0SLa3R",
        "outputId": "a88f7f81-8617-4001-8f2e-57053c2b418e"
      },
      "execution_count": 29,
      "outputs": [
        {
          "output_type": "stream",
          "name": "stdout",
          "text": [
            "v\n",
            "s\n",
            "s\n"
          ]
        }
      ]
    },
    {
      "cell_type": "markdown",
      "source": [
        "write a Python Program to form a new string made of the first 2 characters and last 2 characters from a given string. Problem Description The program takes a string and forms a new string made of the first 2 characters and last 2 characters from a given string. Problem Solution 1. Take a string from the user and store it in a variable. 2. Initialize a count variable to 0. 3. Use a for loop to traverse through the characters in the string and increment the count variable each time. 4. Form the new string using string slicing. 5. Print the newly formed string. 6. Exit.\n",
        "\n",
        "\n",
        "Input (stdin)\n",
        "\n",
        "Hello World\n",
        "\n",
        "Output (stdout)\n",
        "\n",
        "Held"
      ],
      "metadata": {
        "id": "SNxfTOS8OGQR"
      }
    },
    {
      "cell_type": "code",
      "source": [
        "n=input()\n",
        "print(n[0:2]+n[-2:])"
      ],
      "metadata": {
        "colab": {
          "base_uri": "https://localhost:8080/"
        },
        "id": "q5x-lJ2xOHsO",
        "outputId": "ca4f94c8-6931-42fa-fd56-3c999f53c066"
      },
      "execution_count": 30,
      "outputs": [
        {
          "output_type": "stream",
          "name": "stdout",
          "text": [
            "micky mouse\n",
            "mise\n"
          ]
        }
      ]
    },
    {
      "cell_type": "markdown",
      "source": [
        "Write a python program to find maximum value using function concept\n",
        "\n",
        "Input (stdin)\n",
        "\n",
        "5\n",
        "2\n",
        "\n",
        "Output (stdout)\n",
        "\n",
        "5\n",
        "\n",
        "Input (stdin)\n",
        "\n",
        "5\n",
        "6\n",
        "3\n",
        "2\n",
        "\n",
        "Output (stdout)\n",
        "\n",
        "6"
      ],
      "metadata": {
        "id": "c4dKw8BDaaWc"
      }
    },
    {
      "cell_type": "code",
      "source": [
        "def sum(n,p):\n",
        "    if(n>p):\n",
        "        return n\n",
        "    else:\n",
        "        return p\n",
        "n=input()\n",
        "p=input()\n",
        "result=sum(n,p)\n",
        "print(result)"
      ],
      "metadata": {
        "colab": {
          "base_uri": "https://localhost:8080/"
        },
        "id": "o3aHgA-pXics",
        "outputId": "6c76b067-0875-42e2-96ad-6eb519eb71e5"
      },
      "execution_count": 32,
      "outputs": [
        {
          "output_type": "stream",
          "name": "stdout",
          "text": [
            "5\n",
            "2\n",
            "5\n"
          ]
        }
      ]
    },
    {
      "cell_type": "markdown",
      "source": [
        "Find the square of a number using a function declaration using the return statement.\n",
        "\n",
        "Input (stdin)\n",
        "\n",
        "5\n",
        "Output (stdout)\n",
        "\n",
        "The square number is:25\n",
        "\n",
        "Input (stdin)\n",
        "\n",
        "4\n",
        "Output (stdout)\n",
        "\n",
        "The square number is:16"
      ],
      "metadata": {
        "id": "xbJ5xiKra0bz"
      }
    },
    {
      "cell_type": "code",
      "source": [
        "s=int(input())\n",
        "def fun(s): #function declarartion\n",
        "    return s**s\n",
        "result=fun(s)\n",
        "print(\"The square number is:\",result)"
      ],
      "metadata": {
        "colab": {
          "base_uri": "https://localhost:8080/"
        },
        "id": "_VcXxJTya4zU",
        "outputId": "45ba17b5-be21-4d83-8bdb-79983f9260ba"
      },
      "execution_count": 33,
      "outputs": [
        {
          "output_type": "stream",
          "name": "stdout",
          "text": [
            "3\n",
            "The square number is: 27\n"
          ]
        }
      ]
    }
  ]
}