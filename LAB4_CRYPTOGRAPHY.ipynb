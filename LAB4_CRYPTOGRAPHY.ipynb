{
  "nbformat": 4,
  "nbformat_minor": 0,
  "metadata": {
    "colab": {
      "provenance": [],
      "authorship_tag": "ABX9TyMIY7v1jpnXEYAUWK927B6s",
      "include_colab_link": true
    },
    "kernelspec": {
      "name": "python3",
      "display_name": "Python 3"
    },
    "language_info": {
      "name": "python"
    }
  },
  "cells": [
    {
      "cell_type": "markdown",
      "metadata": {
        "id": "view-in-github",
        "colab_type": "text"
      },
      "source": [
        "<a href=\"https://colab.research.google.com/github/630vinay/vinay-b29/blob/main/LAB4_CRYPTOGRAPHY.ipynb\" target=\"_parent\"><img src=\"https://colab.research.google.com/assets/colab-badge.svg\" alt=\"Open In Colab\"/></a>"
      ]
    },
    {
      "cell_type": "code",
      "execution_count": 4,
      "metadata": {
        "colab": {
          "base_uri": "https://localhost:8080/"
        },
        "id": "1NW95eWQ-m7M",
        "outputId": "0ca047a9-84cb-43e1-9f54-9f70419cd0d1"
      },
      "outputs": [
        {
          "output_type": "stream",
          "name": "stdout",
          "text": [
            "Encrypted: HIOZHN\n",
            "Decrypted: HELLOX\n"
          ]
        }
      ],
      "source": [
        "import numpy as np\n",
        "from sympy import Matrix\n",
        "\n",
        "def text_to_numbers(text):\n",
        "    return [ord(char) - ord('A') for char in text]\n",
        "\n",
        "def numbers_to_text(numbers):\n",
        "    return ''.join(chr(num + ord('A')) for num in numbers)\n",
        "\n",
        "def encrypt(plaintext, key):\n",
        "    plaintext = plaintext.upper().replace(\" \", \"\") + 'X' * (len(key) - len(plaintext) % len(key))\n",
        "    key_matrix = np.array(key)\n",
        "    numbers = text_to_numbers(plaintext)\n",
        "    cipher_numbers = [(np.dot(key_matrix, numbers[i:i+len(key)]) % 26).tolist() for i in range(0, len(numbers), len(key))]\n",
        "    return numbers_to_text(sum(cipher_numbers, []))\n",
        "\n",
        "def decrypt(ciphertext, key):\n",
        "    key_inverse = np.array(Matrix(key).inv_mod(26)).astype(int)\n",
        "    numbers = text_to_numbers(ciphertext)\n",
        "    plain_numbers = [(np.dot(key_inverse, numbers[i:i+len(key)]) % 26).tolist() for i in range(0, len(numbers), len(key))]\n",
        "    return numbers_to_text(sum(plain_numbers, []))\n",
        "\n",
        "key = [[3, 3], [2, 5]]\n",
        "plaintext = \"hello\"\n",
        "ciphertext = encrypt(plaintext, key)\n",
        "print(f\"Encrypted: {ciphertext}\")\n",
        "print(f\"Decrypted: {decrypt(ciphertext, key)}\")\n"
      ]
    }
  ]
}