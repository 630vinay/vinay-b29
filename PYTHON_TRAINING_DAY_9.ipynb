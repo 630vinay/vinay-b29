{
  "nbformat": 4,
  "nbformat_minor": 0,
  "metadata": {
    "colab": {
      "provenance": [],
      "authorship_tag": "ABX9TyOiBJodyyxb9fAcMbPPoeuQ",
      "include_colab_link": true
    },
    "kernelspec": {
      "name": "python3",
      "display_name": "Python 3"
    },
    "language_info": {
      "name": "python"
    }
  },
  "cells": [
    {
      "cell_type": "markdown",
      "metadata": {
        "id": "view-in-github",
        "colab_type": "text"
      },
      "source": [
        "<a href=\"https://colab.research.google.com/github/630vinay/vinay-b29/blob/main/PYTHON_TRAINING_DAY_9.ipynb\" target=\"_parent\"><img src=\"https://colab.research.google.com/assets/colab-badge.svg\" alt=\"Open In Colab\"/></a>"
      ]
    },
    {
      "cell_type": "markdown",
      "source": [
        "DSA"
      ],
      "metadata": {
        "id": "Zjmzg3CdUeIZ"
      }
    },
    {
      "cell_type": "code",
      "execution_count": 3,
      "metadata": {
        "colab": {
          "base_uri": "https://localhost:8080/"
        },
        "id": "Tpb1UOe0BjzH",
        "outputId": "17adbe59-2ce4-478c-dc96-95e62e1fbc96"
      },
      "outputs": [
        {
          "output_type": "stream",
          "name": "stdout",
          "text": [
            "a-> 10-> 10.345\n"
          ]
        }
      ],
      "source": [
        "class Node:\n",
        "    def __init__(self,data):\n",
        "        self.data=data\n",
        "        self.next=None\n",
        "class LinkedList:\n",
        "    def __init__(self):\n",
        "        self.head=None\n",
        "\n",
        "    def append(self,data):\n",
        "        new_node=Node(data)\n",
        "        if not self.head:\n",
        "            self.head=new_node\n",
        "        else:\n",
        "            current=self.head\n",
        "            while current.next:\n",
        "                current=current.next\n",
        "            current.next=new_node\n",
        "    def display(self):\n",
        "        if not self.head:\n",
        "            print(\"The list is empty\")\n",
        "        nodes=[]\n",
        "        current=self.head\n",
        "        while current:\n",
        "            nodes.append(str(current.data))\n",
        "            current=current.next\n",
        "        print(\"-> \".join(nodes))\n",
        "l=LinkedList()\n",
        "l.append('a')\n",
        "l.append(10)\n",
        "l.append(10.345)\n",
        "l.display()"
      ]
    },
    {
      "cell_type": "code",
      "source": [
        "class Node:\n",
        "  def __init__(self,data):\n",
        "    self.data = data\n",
        "    self.next = None\n",
        "class LL:\n",
        "  def __init__(self):\n",
        "    self.head = None\n",
        "  def append(self,data):\n",
        "    new_node = Node(data)\n",
        "    if not self.head:\n",
        "      self.head=new_node\n",
        "    else:\n",
        "      current = self.head\n",
        "      while current.next:\n",
        "        current = current.next\n",
        "      current.next = new_node\n",
        "  def display(self):\n",
        "    if not self.head:\n",
        "      print(\"Linked List is Empty!!\\n\")\n",
        "    nodes=[]\n",
        "    current = self.head\n",
        "    while current:\n",
        "      nodes.append(str(current.data))\n",
        "      current = current.next\n",
        "    print(\" -> \".join(nodes))\n",
        "ll = LL()\n",
        "n = int(input(\"Enter the List Size: \"))\n",
        "for i in range(n):\n",
        "  print(\"ENter Value to Add to list : \")\n",
        "  ll.append(input())\n",
        "ll.display()"
      ],
      "metadata": {
        "colab": {
          "base_uri": "https://localhost:8080/"
        },
        "id": "eU2nyQsIcOJr",
        "outputId": "00bf3c06-4aec-4ad7-fa85-618748b193a1"
      },
      "execution_count": 7,
      "outputs": [
        {
          "output_type": "stream",
          "name": "stdout",
          "text": [
            "Enter the List Size: 3\n",
            "ENter Value to Add to list : \n",
            "4\n",
            "ENter Value to Add to list : \n",
            "8\n",
            "ENter Value to Add to list : \n",
            "9\n",
            "4 -> 8 -> 9\n"
          ]
        }
      ]
    },
    {
      "cell_type": "code",
      "source": [
        "class Node:\n",
        "    def __init__(self,data):\n",
        "        self.data=data\n",
        "        self.next=None\n",
        "class LinkedList:\n",
        "    def __init__(self):\n",
        "        self.head=None\n",
        "\n",
        "    def append(self,data):\n",
        "        new_node=Node(data)\n",
        "        if not self.head:\n",
        "            self.head=new_node\n",
        "        else:\n",
        "            current=self.head\n",
        "            while current.next:\n",
        "                current=current.next\n",
        "            current.next=new_node\n",
        "    def insert_at_beginning(self, data):\n",
        "        new_node = Node(data)\n",
        "        new_node.next = self.head\n",
        "        self.head = new_node\n",
        "\n",
        "    def insert_at_beginning(self,data):\n",
        "        new_node=Node(data)\n",
        "        new_node.next=self.head\n",
        "        self.head=new_node\n",
        "\n",
        "    def delete(self, data):\n",
        "        if not self.head:\n",
        "            print(\"List is empty.\")\n",
        "            return\n",
        "        if self.head.data == data:\n",
        "            self.head = self.head.next\n",
        "            return\n",
        "        current = self.head\n",
        "        while current.next and current.next.data != data:\n",
        "            current = current.next\n",
        "        if current.next:\n",
        "            current.next = current.next.next\n",
        "        else:\n",
        "            print(\"Node not found.\")\n",
        "    def display(self):\n",
        "        if not self.head:\n",
        "            print(\"The list is empty\")\n",
        "        nodes=[]\n",
        "        current=self.head\n",
        "        while current:\n",
        "            nodes.append(str(current.data))\n",
        "            current=current.next\n",
        "        print(\"-> \".join(nodes))\n",
        "def user_interface():\n",
        "    ll = LinkedList()\n",
        "    while True:\n",
        "        print(\"\\nChoose an option:\")\n",
        "        print(\"1. Append an element\")\n",
        "        print(\"2. Insert at the beginning\")\n",
        "        print(\"3. Delete an element\")\n",
        "        print(\"4. Display the list\")\n",
        "        print(\"5. Exit\")\n",
        "        choice = input(\"Enter your choice: \")\n",
        "\n",
        "        if choice == \"1\":\n",
        "            data = int(input(\"Enter the element to append: \"))\n",
        "            ll.append(data)\n",
        "        elif choice == \"2\":\n",
        "            data = int(input(\"Enter the element to insert at the beginning: \"))\n",
        "            ll.insert_at_beginning(data)\n",
        "        elif choice == \"3\":\n",
        "            data = int(input(\"Enter the element to delete: \"))\n",
        "            ll.delete(data)\n",
        "        elif choice == \"4\":\n",
        "            print(\"Current list:\")\n",
        "            ll.display()\n",
        "        elif choice == \"5\":\n",
        "            print(\"Exiting...\")\n",
        "            break\n",
        "        else:\n",
        "            print(\"Invalid choice. Please try again.\")\n",
        "\n",
        "user_interface()"
      ],
      "metadata": {
        "colab": {
          "base_uri": "https://localhost:8080/",
          "height": 1000
        },
        "id": "AYpVms0ie1lm",
        "outputId": "b24ffc88-50d1-4a5b-e1c8-40ccc8688cf7"
      },
      "execution_count": 11,
      "outputs": [
        {
          "metadata": {
            "tags": null
          },
          "name": "stdout",
          "output_type": "stream",
          "text": [
            "\n",
            "Choose an option:\n",
            "1. Append an element\n",
            "2. Insert at the beginning\n",
            "3. Delete an element\n",
            "4. Display the list\n",
            "5. Exit\n",
            "\n",
            "Choose an option:\n",
            "1. Append an element\n",
            "2. Insert at the beginning\n",
            "3. Delete an element\n",
            "4. Display the list\n",
            "5. Exit\n",
            "Node not found.\n",
            "\n",
            "Choose an option:\n",
            "1. Append an element\n",
            "2. Insert at the beginning\n",
            "3. Delete an element\n",
            "4. Display the list\n",
            "5. Exit\n",
            "\n",
            "Choose an option:\n",
            "1. Append an element\n",
            "2. Insert at the beginning\n",
            "3. Delete an element\n",
            "4. Display the list\n",
            "5. Exit\n",
            "Current list:\n",
            "3-> 2\n",
            "\n",
            "Choose an option:\n",
            "1. Append an element\n",
            "2. Insert at the beginning\n",
            "3. Delete an element\n",
            "4. Display the list\n",
            "5. Exit\n",
            "Current list:\n",
            "3-> 2\n",
            "\n",
            "Choose an option:\n",
            "1. Append an element\n",
            "2. Insert at the beginning\n",
            "3. Delete an element\n",
            "4. Display the list\n",
            "5. Exit\n",
            "\n",
            "Choose an option:\n",
            "1. Append an element\n",
            "2. Insert at the beginning\n",
            "3. Delete an element\n",
            "4. Display the list\n",
            "5. Exit\n",
            "\n",
            "Choose an option:\n",
            "1. Append an element\n",
            "2. Insert at the beginning\n",
            "3. Delete an element\n",
            "4. Display the list\n",
            "5. Exit\n",
            "\n",
            "Choose an option:\n",
            "1. Append an element\n",
            "2. Insert at the beginning\n",
            "3. Delete an element\n",
            "4. Display the list\n",
            "5. Exit\n"
          ]
        },
        {
          "output_type": "error",
          "ename": "KeyboardInterrupt",
          "evalue": "Interrupted by user",
          "traceback": [
            "\u001b[0;31m---------------------------------------------------------------------------\u001b[0m",
            "\u001b[0;31mKeyboardInterrupt\u001b[0m                         Traceback (most recent call last)",
            "\u001b[0;32m<ipython-input-11-c377d28872d5>\u001b[0m in \u001b[0;36m<cell line: 80>\u001b[0;34m()\u001b[0m\n\u001b[1;32m     78\u001b[0m             \u001b[0mprint\u001b[0m\u001b[0;34m(\u001b[0m\u001b[0;34m\"Invalid choice. Please try again.\"\u001b[0m\u001b[0;34m)\u001b[0m\u001b[0;34m\u001b[0m\u001b[0;34m\u001b[0m\u001b[0m\n\u001b[1;32m     79\u001b[0m \u001b[0;34m\u001b[0m\u001b[0m\n\u001b[0;32m---> 80\u001b[0;31m \u001b[0muser_interface\u001b[0m\u001b[0;34m(\u001b[0m\u001b[0;34m)\u001b[0m\u001b[0;34m\u001b[0m\u001b[0;34m\u001b[0m\u001b[0m\n\u001b[0m",
            "\u001b[0;32m<ipython-input-11-c377d28872d5>\u001b[0m in \u001b[0;36muser_interface\u001b[0;34m()\u001b[0m\n\u001b[1;32m     58\u001b[0m         \u001b[0mprint\u001b[0m\u001b[0;34m(\u001b[0m\u001b[0;34m\"4. Display the list\"\u001b[0m\u001b[0;34m)\u001b[0m\u001b[0;34m\u001b[0m\u001b[0;34m\u001b[0m\u001b[0m\n\u001b[1;32m     59\u001b[0m         \u001b[0mprint\u001b[0m\u001b[0;34m(\u001b[0m\u001b[0;34m\"5. Exit\"\u001b[0m\u001b[0;34m)\u001b[0m\u001b[0;34m\u001b[0m\u001b[0;34m\u001b[0m\u001b[0m\n\u001b[0;32m---> 60\u001b[0;31m         \u001b[0mchoice\u001b[0m \u001b[0;34m=\u001b[0m \u001b[0minput\u001b[0m\u001b[0;34m(\u001b[0m\u001b[0;34m\"Enter your choice: \"\u001b[0m\u001b[0;34m)\u001b[0m\u001b[0;34m\u001b[0m\u001b[0;34m\u001b[0m\u001b[0m\n\u001b[0m\u001b[1;32m     61\u001b[0m \u001b[0;34m\u001b[0m\u001b[0m\n\u001b[1;32m     62\u001b[0m         \u001b[0;32mif\u001b[0m \u001b[0mchoice\u001b[0m \u001b[0;34m==\u001b[0m \u001b[0;34m\"1\"\u001b[0m\u001b[0;34m:\u001b[0m\u001b[0;34m\u001b[0m\u001b[0;34m\u001b[0m\u001b[0m\n",
            "\u001b[0;32m/usr/local/lib/python3.10/dist-packages/ipykernel/kernelbase.py\u001b[0m in \u001b[0;36mraw_input\u001b[0;34m(self, prompt)\u001b[0m\n\u001b[1;32m    849\u001b[0m                 \u001b[0;34m\"raw_input was called, but this frontend does not support input requests.\"\u001b[0m\u001b[0;34m\u001b[0m\u001b[0;34m\u001b[0m\u001b[0m\n\u001b[1;32m    850\u001b[0m             )\n\u001b[0;32m--> 851\u001b[0;31m         return self._input_request(str(prompt),\n\u001b[0m\u001b[1;32m    852\u001b[0m             \u001b[0mself\u001b[0m\u001b[0;34m.\u001b[0m\u001b[0m_parent_ident\u001b[0m\u001b[0;34m,\u001b[0m\u001b[0;34m\u001b[0m\u001b[0;34m\u001b[0m\u001b[0m\n\u001b[1;32m    853\u001b[0m             \u001b[0mself\u001b[0m\u001b[0;34m.\u001b[0m\u001b[0m_parent_header\u001b[0m\u001b[0;34m,\u001b[0m\u001b[0;34m\u001b[0m\u001b[0;34m\u001b[0m\u001b[0m\n",
            "\u001b[0;32m/usr/local/lib/python3.10/dist-packages/ipykernel/kernelbase.py\u001b[0m in \u001b[0;36m_input_request\u001b[0;34m(self, prompt, ident, parent, password)\u001b[0m\n\u001b[1;32m    893\u001b[0m             \u001b[0;32mexcept\u001b[0m \u001b[0mKeyboardInterrupt\u001b[0m\u001b[0;34m:\u001b[0m\u001b[0;34m\u001b[0m\u001b[0;34m\u001b[0m\u001b[0m\n\u001b[1;32m    894\u001b[0m                 \u001b[0;31m# re-raise KeyboardInterrupt, to truncate traceback\u001b[0m\u001b[0;34m\u001b[0m\u001b[0;34m\u001b[0m\u001b[0m\n\u001b[0;32m--> 895\u001b[0;31m                 \u001b[0;32mraise\u001b[0m \u001b[0mKeyboardInterrupt\u001b[0m\u001b[0;34m(\u001b[0m\u001b[0;34m\"Interrupted by user\"\u001b[0m\u001b[0;34m)\u001b[0m \u001b[0;32mfrom\u001b[0m \u001b[0;32mNone\u001b[0m\u001b[0;34m\u001b[0m\u001b[0;34m\u001b[0m\u001b[0m\n\u001b[0m\u001b[1;32m    896\u001b[0m             \u001b[0;32mexcept\u001b[0m \u001b[0mException\u001b[0m \u001b[0;32mas\u001b[0m \u001b[0me\u001b[0m\u001b[0;34m:\u001b[0m\u001b[0;34m\u001b[0m\u001b[0;34m\u001b[0m\u001b[0m\n\u001b[1;32m    897\u001b[0m                 \u001b[0mself\u001b[0m\u001b[0;34m.\u001b[0m\u001b[0mlog\u001b[0m\u001b[0;34m.\u001b[0m\u001b[0mwarning\u001b[0m\u001b[0;34m(\u001b[0m\u001b[0;34m\"Invalid Message:\"\u001b[0m\u001b[0;34m,\u001b[0m \u001b[0mexc_info\u001b[0m\u001b[0;34m=\u001b[0m\u001b[0;32mTrue\u001b[0m\u001b[0;34m)\u001b[0m\u001b[0;34m\u001b[0m\u001b[0;34m\u001b[0m\u001b[0m\n",
            "\u001b[0;31mKeyboardInterrupt\u001b[0m: Interrupted by user"
          ]
        }
      ]
    },
    {
      "cell_type": "markdown",
      "source": [
        "stack push and pop"
      ],
      "metadata": {
        "id": "a7Vg16cXqJ05"
      }
    },
    {
      "cell_type": "code",
      "source": [
        "class Node:\n",
        "    def __init__(self,data):\n",
        "        self.data=data\n",
        "        self.next=None\n",
        "class Stack:\n",
        "    def __init__(self):\n",
        "        self.top=None\n",
        "    def push(self,data):\n",
        "        new_node=Node(data)\n",
        "        new_node.next=self.top\n",
        "        self.top=new_node\n",
        "\n",
        "    def display(self):\n",
        "        if not self.top:\n",
        "            print(\"Stack is empty\")\n",
        "            return\n",
        "\n",
        "        nodes=[]\n",
        "        current=self.top\n",
        "        while current:\n",
        "            nodes.append(str(current.data))\n",
        "            current=current.next\n",
        "        print(\"-> \".join(nodes))\n",
        "\n",
        "    def pop(self):\n",
        "        if not self.top:\n",
        "            print(\"Stack is empty\")\n",
        "            return\n",
        "        popped_data=self.top.data\n",
        "        self.top=self.top.next\n",
        "        return popped_data\n",
        "\n",
        "stack=Stack()\n",
        "stack.push(30)\n",
        "stack.push(20)\n",
        "stack.push(100)\n",
        "stack.pop()\n",
        "stack.display()"
      ],
      "metadata": {
        "colab": {
          "base_uri": "https://localhost:8080/"
        },
        "id": "JC9KvhEWoWCt",
        "outputId": "b0c9c29c-b20d-4769-c245-4a579a46ef0e"
      },
      "execution_count": 13,
      "outputs": [
        {
          "output_type": "stream",
          "name": "stdout",
          "text": [
            "20-> 30\n"
          ]
        }
      ]
    },
    {
      "cell_type": "code",
      "source": [
        "class Node:\n",
        "    def __init__(self,data):\n",
        "        self.data=data\n",
        "        self.next=None\n",
        "class Stack:\n",
        "    def __init__(self):\n",
        "        self.top=None\n",
        "    def push(self,data):\n",
        "        new_node=Node(data)\n",
        "        new_node.next=self.top\n",
        "        self.top=new_node\n",
        "\n",
        "    def display(self):\n",
        "        if not self.top:\n",
        "            print(\"Stack is empty\")\n",
        "            return\n",
        "\n",
        "        nodes=[]\n",
        "        current=self.top\n",
        "        while current:\n",
        "            nodes.append(str(current.data))\n",
        "            current=current.next\n",
        "        print(\"-> \".join(nodes))\n",
        "\n",
        "    def pop(self):\n",
        "        if not self.top:\n",
        "            print(\"Stack is empty\")\n",
        "            return\n",
        "        popped_data=self.top.data\n",
        "        self.top=self.top.next\n",
        "        return popped_data\n",
        "\n",
        "    def peek(self):\n",
        "        if not self.top:\n",
        "            print(\"Stack is Empty\")\n",
        "            return None\n",
        "        return self.top.data\n",
        "    def is_empty(self):\n",
        "        return self.top is None\n",
        "stack=Stack()\n",
        "stack.push(30)\n",
        "stack.push(20)\n",
        "stack.push(100)\n",
        "stack.pop()\n",
        "stack.pop()\n",
        "# stack.pop()\n",
        "print(\"Peek Element :\",stack.peek())\n",
        "print(\"Stack is Empty ? \",stack.is_empty())\n",
        "stack.display()"
      ],
      "metadata": {
        "colab": {
          "base_uri": "https://localhost:8080/"
        },
        "id": "CK7AarFTC3tp",
        "outputId": "bf9ff02f-7efc-46b4-ca93-ad95948aa101"
      },
      "execution_count": 14,
      "outputs": [
        {
          "output_type": "stream",
          "name": "stdout",
          "text": [
            "Peek Element : 30\n",
            "Stack is Empty ?  False\n",
            "30\n"
          ]
        }
      ]
    },
    {
      "cell_type": "markdown",
      "source": [
        "linked list using Queue"
      ],
      "metadata": {
        "id": "Tlf9ylKDM4wD"
      }
    },
    {
      "cell_type": "code",
      "source": [
        "class Node:\n",
        "    def __init__(self, data):\n",
        "        self.data = data\n",
        "        self.next = None\n",
        "\n",
        "class Queue:\n",
        "    def __init__(self):\n",
        "        self.front = None\n",
        "        self.rear = None\n",
        "\n",
        "    def enqueue(self, data):\n",
        "        new_node = Node(data)\n",
        "        if not self.rear:  # Queue is empty\n",
        "            self.front = self.rear = new_node\n",
        "        else:\n",
        "            self.rear.next = new_node\n",
        "            self.rear = new_node\n",
        "\n",
        "    def dequeue(self):\n",
        "        if not self.front:  # Queue is empty\n",
        "            print(\"Queue is empty\")\n",
        "            return None\n",
        "        dequeued_data = self.front.data\n",
        "        self.front = self.front.next\n",
        "        if not self.front:  # If the queue becomes empty\n",
        "            self.rear = None\n",
        "        return dequeued_data\n",
        "\n",
        "    def display(self):\n",
        "        if not self.front:\n",
        "            print(\"Queue is empty\")\n",
        "            return\n",
        "        nodes = []\n",
        "        current = self.front\n",
        "        while current:\n",
        "            nodes.append(str(current.data))\n",
        "            current = current.next\n",
        "        print(\" -> \".join(nodes))\n",
        "\n",
        "    def peek(self):\n",
        "        if not self.front:\n",
        "            print(\"Queue is empty\")\n",
        "            return None\n",
        "        return self.front.data\n",
        "\n",
        "    def is_empty(self):\n",
        "        return self.front is None\n",
        "\n",
        "# Example Usage\n",
        "queue = Queue()\n",
        "queue.enqueue(30)\n",
        "queue.enqueue(20)\n",
        "queue.enqueue(100)\n",
        "queue.dequeue()\n",
        "\n",
        "print(\"Peek Element:\", queue.peek())\n",
        "print(\"Queue is Empty?\", queue.is_empty())\n",
        "queue.display()"
      ],
      "metadata": {
        "colab": {
          "base_uri": "https://localhost:8080/"
        },
        "id": "RWA_uvqfM5_t",
        "outputId": "d7d57810-b41a-4ad5-cfcb-bed1b0f7ee4f"
      },
      "execution_count": 16,
      "outputs": [
        {
          "output_type": "stream",
          "name": "stdout",
          "text": [
            "Peek Element: 20\n",
            "Queue is Empty? False\n",
            "20 -> 100\n"
          ]
        }
      ]
    }
  ]
}