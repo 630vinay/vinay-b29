{
 "cells": [
  {
   "cell_type": "code",
   "execution_count": 4,
   "metadata": {},
   "outputs": [
    {
     "name": "stdout",
     "output_type": "stream",
     "text": [
      "The adjacency list representing the graph is :\n",
      "{0: [1, 3], 1: [0, 2, 3], 2: [4, 1, 5], 3: [4, 0, 1], 4: [2, 3, 5], 5: [4, 2]}\n"
     ]
    }
   ],
   "source": [
    "from queue import Queue\n",
    "graph={0: [1,3],1: [0,2,3], 2: [4,1,5], 3:[4,0,1], 4: [2,3,5],5:[4,2]}\n",
    "print(\"The adjacency list representing the graph is :\")\n",
    "print (graph)\n",
    "\n",
    "def bfs(graph,source):\n",
    "    Q = queue()\n",
    "    visited_vertices = set()\n",
    "    q.put(source)\n",
    "    visited_vertices.update({0})\n",
    "    while not Q.empty():\n",
    "        vertex = Q.get()\n",
    "        print(vertex, end=\"-->\")\n",
    "        for u in graph[vertex]:\n",
    "            if u not in visited_vertices:\n",
    "                q.put(u)\n",
    "                visited_vertices.update({u})\n",
    "\n",
    "                print(\"BFS traversal of graph with source 0 is:\")\n",
    "                bfs(graph,0)\n",
    "\n",
    "    \n",
    "    "
   ]
  },
  {
   "cell_type": "code",
   "execution_count": 6,
   "metadata": {},
   "outputs": [
    {
     "name": "stdout",
     "output_type": "stream",
     "text": [
      "['D', 'C', 'E', 'H', 'G', 'F', 'S', 'A', 'B']\n"
     ]
    }
   ],
   "source": [
    "graph1 = {\n",
    "    'A' : ['B','S'],\n",
    "    'B' : ['A'],\n",
    "    'C' : ['D','E','F','S',],\n",
    "    'D' : ['C'],\n",
    "    'E' : ['C','H',],\n",
    "    'F' : ['C','G'],\n",
    "    'G' : ['F','S'],\n",
    "    'H' : ['E','G'],\n",
    "    'S' : ['A','C','G']\n",
    "} \n",
    "\n",
    "def dfs(graph,node,visited):\n",
    "    if node not in visited:\n",
    "        visited.append(node)\n",
    "        for k in graph[node]:\n",
    "            dfs(graph,k, visited)\n",
    "    return visited\n",
    "\n",
    "visited = dfs(graph1,'D',[])\n",
    "print(visited)\n",
    "      \n",
    "\n",
    "\n",
    "    \n"
   ]
  },
  {
   "cell_type": "code",
   "execution_count": null,
   "metadata": {},
   "outputs": [],
   "source": [
    "from copy import deepcopy\n",
    "import numpy as np\n",
    "import time \n",
    "\n",
    "def bestsolution(state):\n",
    "    bestsol = np.array([], int).reshape(-1,9)\n",
    "    count = len(state) - 1\n",
    "    while count != -1:\n",
    "        bestsol = np.insert(bestsol, 0, state[count]['puzzle'], 0)\n",
    "        count = (state[count]['parent'])\n",
    "    return bestsol.reshape(-1,3,3)\n",
    "\n",
    "\n",
    "# checks for the uniqueness of the iteration(it).\n",
    "def all(checkarray):\n",
    "    set=[]\n",
    "    for it in set:\n",
    "        for checkarray in it:\n",
    "            return 1\n",
    "        else:\n",
    "            return 0\n",
    "        \n",
    "\n",
    "    \n",
    "# number of misplaced_titles(puzzle,goal)"
   ]
  }
 ],
 "metadata": {
  "kernelspec": {
   "display_name": "Python 3",
   "language": "python",
   "name": "python3"
  },
  "language_info": {
   "codemirror_mode": {
    "name": "ipython",
    "version": 3
   },
   "file_extension": ".py",
   "mimetype": "text/x-python",
   "name": "python",
   "nbconvert_exporter": "python",
   "pygments_lexer": "ipython3",
   "version": "3.10.13"
  }
 },
 "nbformat": 4,
 "nbformat_minor": 2
}
