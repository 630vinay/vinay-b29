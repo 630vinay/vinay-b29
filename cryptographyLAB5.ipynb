{
  "nbformat": 4,
  "nbformat_minor": 0,
  "metadata": {
    "colab": {
      "provenance": [],
      "authorship_tag": "ABX9TyPXuEBaqIng3kCFgvOlmRPf",
      "include_colab_link": true
    },
    "kernelspec": {
      "name": "python3",
      "display_name": "Python 3"
    },
    "language_info": {
      "name": "python"
    }
  },
  "cells": [
    {
      "cell_type": "markdown",
      "metadata": {
        "id": "view-in-github",
        "colab_type": "text"
      },
      "source": [
        "<a href=\"https://colab.research.google.com/github/630vinay/vinay-b29/blob/main/cryptographyLAB5.ipynb\" target=\"_parent\"><img src=\"https://colab.research.google.com/assets/colab-badge.svg\" alt=\"Open In Colab\"/></a>"
      ]
    },
    {
      "cell_type": "code",
      "execution_count": 1,
      "metadata": {
        "colab": {
          "base_uri": "https://localhost:8080/"
        },
        "id": "FcDn_PNpAKM4",
        "outputId": "1cb2023e-e5ee-4d49-a3a3-b0faa3fe4677"
      },
      "outputs": [
        {
          "output_type": "stream",
          "name": "stdout",
          "text": [
            "Original Plaintext: HELLO WORLD\n",
            "Encrypted Ciphertext: ITSSG VGKSR\n",
            "Decrypted Plaintext: HELLO WORLD\n"
          ]
        }
      ],
      "source": [
        "import string\n",
        "\n",
        "def create_substitution_alphabet():\n",
        "    # Define the substitution alphabet\n",
        "    plaintext_alphabet = string.ascii_uppercase\n",
        "    ciphertext_alphabet = \"QWERTYUIOPASDFGHJKLZXCVBNM\"\n",
        "\n",
        "    # Create encryption and decryption dictionaries\n",
        "    encrypt_dict = dict(zip(plaintext_alphabet, ciphertext_alphabet))\n",
        "    decrypt_dict = dict(zip(ciphertext_alphabet, plaintext_alphabet))\n",
        "\n",
        "    return encrypt_dict, decrypt_dict\n",
        "\n",
        "def encrypt(plaintext, encrypt_dict):\n",
        "    ciphertext = \"\"\n",
        "    for char in plaintext.upper():\n",
        "        if char in encrypt_dict:\n",
        "            ciphertext += encrypt_dict[char]\n",
        "        else:\n",
        "            ciphertext += char  # Keep spaces and non-alphabetic characters unchanged\n",
        "    return ciphertext\n",
        "\n",
        "def decrypt(ciphertext, decrypt_dict):\n",
        "    plaintext = \"\"\n",
        "    for char in ciphertext.upper():\n",
        "        if char in decrypt_dict:\n",
        "            plaintext += decrypt_dict[char]\n",
        "        else:\n",
        "            plaintext += char  # Keep spaces and non-alphabetic characters unchanged\n",
        "    return plaintext\n",
        "\n",
        "if __name__ == \"__main__\":\n",
        "    encrypt_dict, decrypt_dict = create_substitution_alphabet()\n",
        "\n",
        "    # Example plaintext\n",
        "    plaintext = \"HELLO WORLD\"\n",
        "    print(f\"Original Plaintext: {plaintext}\")\n",
        "\n",
        "    # Encryption\n",
        "    ciphertext = encrypt(plaintext, encrypt_dict)\n",
        "    print(f\"Encrypted Ciphertext: {ciphertext}\")\n",
        "\n",
        "    # Decryption\n",
        "    decrypted_text = decrypt(ciphertext, decrypt_dict)\n",
        "    print(f\"Decrypted Plaintext: {decrypted_text}\")\n"
      ]
    }
  ]
}