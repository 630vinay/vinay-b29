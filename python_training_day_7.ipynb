{
  "nbformat": 4,
  "nbformat_minor": 0,
  "metadata": {
    "colab": {
      "provenance": [],
      "authorship_tag": "ABX9TyPwwy1sl64LF9OsconOWDeQ",
      "include_colab_link": true
    },
    "kernelspec": {
      "name": "python3",
      "display_name": "Python 3"
    },
    "language_info": {
      "name": "python"
    }
  },
  "cells": [
    {
      "cell_type": "markdown",
      "metadata": {
        "id": "view-in-github",
        "colab_type": "text"
      },
      "source": [
        "<a href=\"https://colab.research.google.com/github/630vinay/vinay-b29/blob/main/python_training_day_7.ipynb\" target=\"_parent\"><img src=\"https://colab.research.google.com/assets/colab-badge.svg\" alt=\"Open In Colab\"/></a>"
      ]
    },
    {
      "cell_type": "markdown",
      "source": [
        "class"
      ],
      "metadata": {
        "id": "sL-AfsapwO8D"
      }
    },
    {
      "cell_type": "code",
      "execution_count": 6,
      "metadata": {
        "colab": {
          "base_uri": "https://localhost:8080/"
        },
        "id": "Cx8LR3wAold2",
        "outputId": "2830b0af-d9f8-403b-edfb-0504b7f21f0e"
      },
      "outputs": [
        {
          "output_type": "stream",
          "name": "stdout",
          "text": [
            "15\n",
            "10\n"
          ]
        }
      ],
      "source": [
        "class sru:\n",
        "  a=10\n",
        "  def display(self): # self is used to instance method\n",
        "      b=15\n",
        "      print(b)\n",
        "obj=sru()\n",
        "obj.display()\n",
        "print(obj.a)\n"
      ]
    },
    {
      "cell_type": "markdown",
      "source": [
        "parameterized"
      ],
      "metadata": {
        "id": "AaWv5WCH1ODF"
      }
    },
    {
      "cell_type": "code",
      "source": [
        "class Mobile:\n",
        "    def __init__(self,brand,ram,camera,battery):\n",
        "        self.brand=brand\n",
        "        self.ram=ram\n",
        "        self.camera=camera\n",
        "        self.battery=battery\n",
        "    def display(self):\n",
        "        print(\"Brand: \",self.brand)\n",
        "        print(\"Ram :\",self.ram)\n",
        "        print(\"Camera :\",self.camera)\n",
        "        print(\"Battery :\",self.battery)\n",
        "obj=Mobile(\"Apple\",\"8gb\",\"48mp\",\"98%\")\n",
        "obj.display()"
      ],
      "metadata": {
        "colab": {
          "base_uri": "https://localhost:8080/"
        },
        "id": "iXZ2w52C46j4",
        "outputId": "ddbe7516-43e8-442e-d466-11602e88fbe0"
      },
      "execution_count": 8,
      "outputs": [
        {
          "output_type": "stream",
          "name": "stdout",
          "text": [
            "Brand:  Apple\n",
            "Ram : 8gb\n",
            "Camera : 48mp\n",
            "Battery : 98%\n"
          ]
        }
      ]
    },
    {
      "cell_type": "code",
      "source": [
        "class Mobile:\n",
        "    def __init__(self):\n",
        "        print(\"Init Method\")\n",
        "    def display(self):\n",
        "        print(\"Normal Method\")\n",
        "obj=Mobile()\n",
        "obj.display()"
      ],
      "metadata": {
        "colab": {
          "base_uri": "https://localhost:8080/"
        },
        "id": "maRqsKI36br-",
        "outputId": "397496c1-caea-4a85-bef5-8ba83ab89f6a"
      },
      "execution_count": 11,
      "outputs": [
        {
          "output_type": "stream",
          "name": "stdout",
          "text": [
            "Init Method\n",
            "Normal Method\n"
          ]
        }
      ]
    },
    {
      "cell_type": "code",
      "source": [
        "class Mobile:\n",
        "    def __init__(self,brand,ram,camera,battery):\n",
        "        self.brand=brand\n",
        "        self.ram=ram\n",
        "        self.camera=camera\n",
        "        self.battery=battery\n",
        "    def display(self):\n",
        "        print(\"Brand: \",self.brand)\n",
        "        print(\"Ram :\",self.ram)\n",
        "        print(\"Camera :\",self.camera)\n",
        "        print(\"Battery :\",self.battery)\n",
        "\n",
        "brand=input()\n",
        "ram=input()\n",
        "camera=input()\n",
        "battery=input()\n",
        "\n",
        "obj=Mobile(brand,ram,camera,battery)\n",
        "obj.display()"
      ],
      "metadata": {
        "colab": {
          "base_uri": "https://localhost:8080/"
        },
        "id": "HDDM9vL88QmV",
        "outputId": "d97c5f4a-1f60-4188-d00e-e58ee82d2e8e"
      },
      "execution_count": 15,
      "outputs": [
        {
          "output_type": "stream",
          "name": "stdout",
          "text": [
            "apple\n",
            "6gb\n",
            "180mp\n",
            "45\n",
            "Brand:  apple\n",
            "Ram : 6gb\n",
            "Camera : 180mp\n",
            "Battery : 45\n"
          ]
        }
      ]
    },
    {
      "cell_type": "markdown",
      "source": [
        "multi level inheritance"
      ],
      "metadata": {
        "id": "MEutJ0c5AAXP"
      }
    },
    {
      "cell_type": "code",
      "source": [
        "class Parent:\n",
        "    def display(self):\n",
        "        print(\"Parent Class\")\n",
        "class Child(Parent):\n",
        "    def display1(self):\n",
        "        print(\"Child Class\")\n",
        "\n",
        "class GChild(Child):\n",
        "    def display2(self):\n",
        "        print(\"Grand Child Class\")\n",
        "obj=GChild()\n",
        "obj.display()\n",
        "obj.display1()\n",
        "obj.display2()"
      ],
      "metadata": {
        "colab": {
          "base_uri": "https://localhost:8080/"
        },
        "id": "39v-0BTqABuf",
        "outputId": "524142d3-e6a3-42ec-cfe8-8ad15f904487"
      },
      "execution_count": 16,
      "outputs": [
        {
          "output_type": "stream",
          "name": "stdout",
          "text": [
            "Parent Class\n",
            "Child Class\n",
            "Grand Child Class\n"
          ]
        }
      ]
    },
    {
      "cell_type": "markdown",
      "source": [
        "A car manufacturing company has multiple levels of hierarchy in its class structure. The base class is Vehicle, which defines the general attributes of a vehicle. The second level is Car, which inherits from Vehicle and adds car-specific features. Finally, the third level is SportsCar, which inherits from Car and includes high-performance features.\n",
        "\n",
        "Your task is to implement a Python program using multilevel inheritance to simulate this hierarchy. Write classes for Vehicle, Car, and SportsCar with relevant attributes and methods.\n",
        "\n",
        "Input and Output Format:\n",
        "Input:\n",
        "A string representing the brand of the vehicle.\n",
        "An integer max_speed for the maximum speed of the vehicle.\n",
        "A string representing the type of the car (e.g., sedan, hatchback).\n",
        "A boolean indicating whether it is a high-performance car (e.g., True or False).\n",
        "Output:\n",
        "Display the details of the SportsCar using methods from all three classes in the hierarchy.\n",
        "\n",
        "Test Case 1:\n",
        "\n",
        "Input:\n",
        "Tesla\n",
        "250\n",
        "Electric\n",
        "True\n",
        "\n",
        "Output:\n",
        "Vehicle Info:\n",
        "Brand: Tesla, Max Speed: 250 km/h\n",
        "Car Info:\n",
        "Type: Electric\n",
        "Sports Car Info:\n",
        "High-Performance: Yes\n",
        "\n",
        "Test Case 2:\n",
        "\n",
        "Input:\n",
        "Toyota\n",
        "180\n",
        "Sedan\n",
        "False\n",
        "\n",
        "Output:\n",
        "Vehicle Info:\n",
        "Brand: Toyota, Max Speed: 180 km/h\n",
        "Car Info:\n",
        "Type: Sedan\n",
        "Sports Car Info:\n",
        "High-Performance: No"
      ],
      "metadata": {
        "id": "m8qJGwPjAZkt"
      }
    },
    {
      "cell_type": "code",
      "source": [
        "# Base class\n",
        "class Vehicle:\n",
        "    def __init__(self, brand, max_speed):\n",
        "        self.brand = brand\n",
        "        self.max_speed = max_speed\n",
        "\n",
        "    def display_vehicle_info(self):\n",
        "        print(f\"Vehicle Info:\\nBrand: {self.brand}, Max Speed: {self.max_speed} km/h\")\n",
        "\n",
        "# Second level class\n",
        "class Car(Vehicle):\n",
        "    def __init__(self, brand, max_speed, car_type):\n",
        "        super().__init__(brand, max_speed)\n",
        "        self.car_type = car_type\n",
        "\n",
        "    def display_car_info(self):\n",
        "        print(f\"Car Info:\\nType: {self.car_type}\")\n",
        "\n",
        "# Third level class\n",
        "class SportsCar(Car):\n",
        "    def __init__(self, brand, max_speed, car_type, is_high_performance):\n",
        "        super().__init__(brand, max_speed, car_type)\n",
        "        self.is_high_performance = is_high_performance\n",
        "\n",
        "    def display_sports_car_info(self):\n",
        "        performance_status = \"Yes\" if self.is_high_performance else \"No\"\n",
        "        print(f\"Sports Car Info:\\nHigh-Performance: {performance_status}\")\n",
        "\n",
        "# Main function to test the hierarchy\n",
        "def main():\n",
        "    # Input values\n",
        "    brand = input(\"Enter the brand: \")\n",
        "    max_speed = int(input(\"Enter the maximum speed (km/h): \"))\n",
        "    car_type = input(\"Enter the car type (e.g., Sedan, Electric): \")\n",
        "    is_high_performance = input(\"Is it a high-performance car? (True/False): \").strip().lower() == \"true\"\n",
        "\n",
        "    # Create a SportsCar object\n",
        "    sports_car = SportsCar(brand, max_speed, car_type, is_high_performance)\n",
        "\n",
        "    # Display details\n",
        "    sports_car.display_vehicle_info()\n",
        "    sports_car.display_car_info()\n",
        "    sports_car.display_sports_car_info()\n",
        "\n",
        "# Run the program\n",
        "if __name__ == \"__main__\":\n",
        "    main()\n"
      ],
      "metadata": {
        "colab": {
          "base_uri": "https://localhost:8080/"
        },
        "id": "FgzSXexgAbpb",
        "outputId": "e0d76be5-5a7e-4875-8cda-10f0bc971f94"
      },
      "execution_count": 17,
      "outputs": [
        {
          "output_type": "stream",
          "name": "stdout",
          "text": [
            "Enter the brand: tesla\n",
            "Enter the maximum speed (km/h): 250\n",
            "Enter the car type (e.g., Sedan, Electric): electric\n",
            "Is it a high-performance car? (True/False): true\n",
            "Vehicle Info:\n",
            "Brand: tesla, Max Speed: 250 km/h\n",
            "Car Info:\n",
            "Type: electric\n",
            "Sports Car Info:\n",
            "High-Performance: Yes\n"
          ]
        }
      ]
    },
    {
      "cell_type": "code",
      "source": [
        "class Vehicle:\n",
        "    def __init__(self,brand,speed):\n",
        "        self.brand=brand\n",
        "        self.speed=speed\n",
        "\n",
        "    def display_vehicle(self):\n",
        "        print(\"Vehicle Info:\")\n",
        "        print(f\"Brand : {self.brand} Max Speed : {self.speed} kmph\")\n",
        "\n",
        "\n",
        "class carinfo(Vehicle):\n",
        "    def _init_(self,brand,speed,car_type):\n",
        "        super()._init_(brand,speed)\n",
        "        self.car_type=car_type\n",
        "\n",
        "    def display_car(self):\n",
        "        print(f\"Car Info : \\nType :{self.car_type}\")\n",
        "\n",
        "class sports(carinfo):\n",
        "    def _init_(self,brand,speed,car_type,perf):\n",
        "        super()._init_(brand,speed,car_type)\n",
        "        self.perf=perf\n",
        "\n",
        "    def display_perf(self):\n",
        "        perf=\"Yes\" if self.perf else \"No\"\n",
        "        print(f\"Sports Car Info:\\nHigh-Performance: {perf}\")\n",
        "\n",
        "brand=input()\n",
        "speed=int(input())\n",
        "type=input()\n",
        "per=input().lower()==\"true\"\n",
        "obj=sports(brand,speed,type,per)\n",
        "\n",
        "obj.display_vehicle()\n",
        "obj.display_car()\n",
        "obj.display_perf()\n"
      ],
      "metadata": {
        "colab": {
          "base_uri": "https://localhost:8080/",
          "height": 280
        },
        "id": "HHt2x9VFRD7C",
        "outputId": "25199e57-e256-4967-b110-869efda0fa31"
      },
      "execution_count": 19,
      "outputs": [
        {
          "name": "stdout",
          "output_type": "stream",
          "text": [
            "wolkswagon\n",
            "250\n",
            "polo\n",
            "true\n"
          ]
        },
        {
          "output_type": "error",
          "ename": "TypeError",
          "evalue": "Vehicle.__init__() takes 3 positional arguments but 5 were given",
          "traceback": [
            "\u001b[0;31m---------------------------------------------------------------------------\u001b[0m",
            "\u001b[0;31mTypeError\u001b[0m                                 Traceback (most recent call last)",
            "\u001b[0;32m<ipython-input-19-d06704203294>\u001b[0m in \u001b[0;36m<cell line: 32>\u001b[0;34m()\u001b[0m\n\u001b[1;32m     30\u001b[0m \u001b[0mtype\u001b[0m\u001b[0;34m=\u001b[0m\u001b[0minput\u001b[0m\u001b[0;34m(\u001b[0m\u001b[0;34m)\u001b[0m\u001b[0;34m\u001b[0m\u001b[0;34m\u001b[0m\u001b[0m\n\u001b[1;32m     31\u001b[0m \u001b[0mper\u001b[0m\u001b[0;34m=\u001b[0m\u001b[0minput\u001b[0m\u001b[0;34m(\u001b[0m\u001b[0;34m)\u001b[0m\u001b[0;34m.\u001b[0m\u001b[0mlower\u001b[0m\u001b[0;34m(\u001b[0m\u001b[0;34m)\u001b[0m\u001b[0;34m==\u001b[0m\u001b[0;34m\"true\"\u001b[0m\u001b[0;34m\u001b[0m\u001b[0;34m\u001b[0m\u001b[0m\n\u001b[0;32m---> 32\u001b[0;31m \u001b[0mobj\u001b[0m\u001b[0;34m=\u001b[0m\u001b[0msports\u001b[0m\u001b[0;34m(\u001b[0m\u001b[0mbrand\u001b[0m\u001b[0;34m,\u001b[0m\u001b[0mspeed\u001b[0m\u001b[0;34m,\u001b[0m\u001b[0mtype\u001b[0m\u001b[0;34m,\u001b[0m\u001b[0mper\u001b[0m\u001b[0;34m)\u001b[0m\u001b[0;34m\u001b[0m\u001b[0;34m\u001b[0m\u001b[0m\n\u001b[0m\u001b[1;32m     33\u001b[0m \u001b[0;34m\u001b[0m\u001b[0m\n\u001b[1;32m     34\u001b[0m \u001b[0mobj\u001b[0m\u001b[0;34m.\u001b[0m\u001b[0mdisplay_vehicle\u001b[0m\u001b[0;34m(\u001b[0m\u001b[0;34m)\u001b[0m\u001b[0;34m\u001b[0m\u001b[0;34m\u001b[0m\u001b[0m\n",
            "\u001b[0;31mTypeError\u001b[0m: Vehicle.__init__() takes 3 positional arguments but 5 were given"
          ]
        }
      ]
    },
    {
      "cell_type": "markdown",
      "source": [
        "A cricket organization maintains a hierarchy for different types of players. The base class is Player, which defines the general details of a cricket player. The second level is Batsman, which inherits from Player and adds attributes specific to a batsman. Finally, the third level is Captain, which inherits from Batsman and includes captain-specific responsibilities.\n",
        "\n",
        "Your task is to implement a Python program using multilevel inheritance to simulate this hierarchy. Write classes for Player, Batsman, and Captain with relevant attributes and methods.\n",
        "\n",
        "Input and Output Format\n",
        "Input:\n",
        "\n",
        "A string representing the name of the player.\n",
        "An integer representing the player's age.\n",
        "An integer representing the total runs scored by the batsman.\n",
        "A float representing the batsman's average.\n",
        "A boolean indicating if the player is a captain (True/False).\n",
        "Output: Display the details of the captain using methods from all three classes in the hierarchy.\n",
        "\n",
        "Test Case 1\n",
        "\n",
        "Input:\n",
        "Virat Kohli\n",
        "34\n",
        "12000\n",
        "57.68\n",
        "True\n",
        "\n",
        "Output:\n",
        "Player Info:\n",
        "Name: Virat Kohli, Age: 34\n",
        "Batsman Info:\n",
        "Total Runs: 12000, Average: 57.68\n",
        "Captain Info:\n",
        "Is Captain: Yes\n",
        "\n",
        "Test Case 2\n",
        "\n",
        "Input:\n",
        "Rohit Sharma\n",
        "36\n",
        "9800\n",
        "48.15\n",
        "False\n",
        "\n",
        "Output:\n",
        "Player Info:\n",
        "Name: Rohit Sharma, Age: 36\n",
        "Batsman Info:\n",
        "Total Runs: 9800, Average: 48.15\n",
        "Captain Info:\n",
        "Is Captain: No"
      ],
      "metadata": {
        "id": "l0-P20pdS9U7"
      }
    },
    {
      "cell_type": "code",
      "source": [],
      "metadata": {
        "id": "hrFlnGc2S_o8"
      },
      "execution_count": null,
      "outputs": []
    }
  ]
}